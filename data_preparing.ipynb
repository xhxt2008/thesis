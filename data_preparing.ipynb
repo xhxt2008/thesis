{
 "cells": [
  {
   "cell_type": "code",
   "execution_count": 2,
   "metadata": {},
   "outputs": [],
   "source": [
    "import tushare as ts\n",
    "import pandas as pd\n",
    "import numpy as np\n",
    "import matplotlib.pyplot as plt\n",
    "import quandl\n",
    "import os"
   ]
  },
  {
   "cell_type": "code",
   "execution_count": 273,
   "metadata": {
    "collapsed": true
   },
   "outputs": [],
   "source": [
    "dataPath = os.getcwd()+'/dataset.csv'\n",
    "djiPath = os.getcwd()+'/DJI.csv'\n",
    "dataset = pd.read_csv(dataPath)\n",
    "DJI = pd.read_csv(djiPath,index_col=0)"
   ]
  },
  {
   "cell_type": "code",
   "execution_count": 100,
   "metadata": {},
   "outputs": [
    {
     "data": {
      "text/plain": [
       "'GDP'"
      ]
     },
     "execution_count": 100,
     "metadata": {},
     "output_type": "execute_result"
    }
   ],
   "source": [
    "dataset.names[0]"
   ]
  },
  {
   "cell_type": "code",
   "execution_count": 3,
   "metadata": {},
   "outputs": [],
   "source": [
    "quandl.ApiConfig.api_key = 'rX-asDsCtNGvci1hLb41'"
   ]
  },
  {
   "cell_type": "code",
   "execution_count": 110,
   "metadata": {},
   "outputs": [
    {
     "name": "stdout",
     "output_type": "stream",
     "text": [
      "('day', 'DFF')\n",
      "('day', 'DTB3')\n",
      "('day', 'DGS5')\n",
      "('day', 'DGS10')\n",
      "('day', 'DGS30')\n",
      "('day', 'T5YIE')\n",
      "('day', 'T10YIE')\n",
      "('day', 'T5YIFR')\n",
      "('day', 'TEDRATE')\n",
      "('day', 'DPRIME')\n",
      "('day', 'DCOILWTICO')\n",
      "('day', 'DTWEXM')\n",
      "('day', 'DTWEXB')\n",
      "('day', 'USEPUINDXD')\n",
      "('day', 'USRECDM')\n",
      "('day', 'USRECDP')\n"
     ]
    }
   ],
   "source": [
    "# 判断数据的周期\n",
    "\n",
    "day = []\n",
    "week = []\n",
    "mounth = []\n",
    "season = []\n",
    "year = []\n",
    "#time_period = dict()\n",
    "for i in dataset.names:\n",
    "    temp = quandl.get('FRED/' + i, start_date=\"2016-10-1\", end_date=\"2018-1-1\")\n",
    "    period_t = temp.index[1] - temp.index[0]\n",
    "    period = period_t.days\n",
    "    if period == 1:\n",
    "        day.append(i)\n",
    "       # print('day',i)\n",
    "    elif  period > 1 and period < 15:\n",
    "        week.append(i)\n",
    "       # print('week',i)\n",
    "    elif  period > 15 and period < 45:\n",
    "        mounth.append(i)\n",
    "       # print('mounth',i)\n",
    "    elif  period > 45 and period < 180:\n",
    "        season.append(i)\n",
    "        #print('season',i) \n",
    "#     elif  period > 180 and period < 368:\n",
    "#         year.append(i)\n",
    "        #print('year',i)   \n",
    "    else :\n",
    "        print('unexpected',i)"
   ]
  },
  {
   "cell_type": "code",
   "execution_count": 115,
   "metadata": {
    "collapsed": true
   },
   "outputs": [],
   "source": [
    "pd.Series(day).to_csv(\"dayName.csv\" , encoding = \"utf-8\")\n",
    "pd.Series(week).to_csv(\"weekName.csv\" , encoding = \"utf-8\")\n",
    "pd.Series(mounth).to_csv(\"mounthName.csv\" , encoding = \"utf-8\")\n",
    "pd.Series(season).to_csv(\"seasonName.csv\" , encoding = \"utf-8\")\n",
    "pd.Series(year).to_csv(\"yearName.csv\" , encoding = \"utf-8\")"
   ]
  },
  {
   "cell_type": "code",
   "execution_count": 253,
   "metadata": {
    "collapsed": true
   },
   "outputs": [],
   "source": [
    "data = pd.DataFrame(DJI['Close'])\n",
    "for i in day:\n",
    "    data = data.join(quandl.get('FRED/' + i, start_date=\"1987-09-1\", end_date=\"2018-1-2\"))\n",
    "    data.rename(columns={'Value':i}, inplace = True)"
   ]
  },
  {
   "cell_type": "code",
   "execution_count": 257,
   "metadata": {
    "collapsed": true
   },
   "outputs": [],
   "source": [
    "day_null_sort = data.isnull().sum().sort_values(ascending=False)"
   ]
  },
  {
   "cell_type": "code",
   "execution_count": 258,
   "metadata": {
    "collapsed": true
   },
   "outputs": [],
   "source": [
    "#保留的day数据\n",
    "dayName_delete = day_null_sort[:5].index.values"
   ]
  },
  {
   "cell_type": "code",
   "execution_count": 259,
   "metadata": {},
   "outputs": [
    {
     "data": {
      "text/plain": [
       "array(['T5YIFR', 'T10YIE', 'T5YIE', 'DTWEXB', 'DGS30'], dtype=object)"
      ]
     },
     "execution_count": 259,
     "metadata": {},
     "output_type": "execute_result"
    }
   ],
   "source": [
    "dayName_delete"
   ]
  },
  {
   "cell_type": "code",
   "execution_count": 181,
   "metadata": {
    "collapsed": true
   },
   "outputs": [],
   "source": [
    "data = data.drop(dayName_delete,axis=1)"
   ]
  },
  {
   "cell_type": "code",
   "execution_count": 285,
   "metadata": {
    "collapsed": true
   },
   "outputs": [],
   "source": [
    "data = pd.DataFrame(DJI['Close'])\n",
    "for i in week:\n",
    "    data = data.join(quandl.get('FRED/' + i, start_date=\"1987-9-1\", end_date=\"2018-1-2\"))\n",
    "    data.rename(columns={'Value':i}, inplace = True)"
   ]
  },
  {
   "cell_type": "code",
   "execution_count": 286,
   "metadata": {},
   "outputs": [
    {
     "data": {
      "text/plain": [
       "array(['ICSA', 'IC4WSA', 'BASE', 'STLFSI', 'GASREGCOVW'], dtype=object)"
      ]
     },
     "execution_count": 286,
     "metadata": {},
     "output_type": "execute_result"
    }
   ],
   "source": [
    "week_null_sort = data.notnull().sum().sort_values()\n",
    "weekName_delete = week_null_sort[:5].index.values\n",
    "weekName_delete"
   ]
  },
  {
   "cell_type": "code",
   "execution_count": 284,
   "metadata": {},
   "outputs": [
    {
     "data": {
      "text/plain": [
       "ICSA             0\n",
       "IC4WSA           0\n",
       "BASE           783\n",
       "STLFSI        1211\n",
       "GASREGCOVW    1296\n",
       "M1            1439\n",
       "M2            1439\n",
       "GDTCBW        1439\n",
       "GDDDCBW       1439\n",
       "GDBFRW        1439\n",
       "EXCSRESNW     1565\n",
       "TOTCI         1565\n",
       "Close         7627\n",
       "dtype: int64"
      ]
     },
     "execution_count": 284,
     "metadata": {},
     "output_type": "execute_result"
    }
   ],
   "source": [
    "week_null_sort"
   ]
  },
  {
   "cell_type": "code",
   "execution_count": 236,
   "metadata": {
    "collapsed": true
   },
   "outputs": [],
   "source": [
    "data = pd.DataFrame(DJI['Close'])\n",
    "for i in season:\n",
    "    data = data.join(quandl.get('FRED/' + i, start_date=\"1987-9-1\", end_date=\"2018-1-2\"))\n",
    "    data.rename(columns={'Value':i}, inplace = True)"
   ]
  },
  {
   "cell_type": "code",
   "execution_count": 237,
   "metadata": {},
   "outputs": [
    {
     "data": {
      "text/plain": [
       "array(['NHSUSSPTQ', 'EYRVACUSQ176N', 'EOCCUSEUSQ176N', 'EVACANTUSQ176N',\n",
       "       'ETOTALUSQ176N', 'W240RX1Q020SBEA', 'W242RX1Q020SBEA'], dtype=object)"
      ]
     },
     "execution_count": 237,
     "metadata": {},
     "output_type": "execute_result"
    }
   ],
   "source": [
    "season_null_sort = data.notnull().sum().sort_values()\n",
    "seasonName_delete = season_null_sort[:7].index.values\n",
    "seasonName_delete"
   ]
  },
  {
   "cell_type": "code",
   "execution_count": 239,
   "metadata": {
    "collapsed": true
   },
   "outputs": [],
   "source": [
    "data = pd.DataFrame(DJI['Close'])\n",
    "for i in mounth:\n",
    "    data = data.join(quandl.get('FRED/' + i, start_date=\"1987-9-1\", end_date=\"2018-1-2\"))\n",
    "    data.rename(columns={'Value':i}, inplace = True)"
   ]
  },
  {
   "cell_type": "code",
   "execution_count": 240,
   "metadata": {},
   "outputs": [
    {
     "data": {
      "text/plain": [
       "array(['IR14220', 'IR14250', 'IR110', 'IQ12210', 'IR14260', 'IR14240',\n",
       "       'PCU4842104842104', 'GASMIDREFM', 'GASPRMREFM', 'IR21300', 'RRSFS'], dtype=object)"
      ]
     },
     "execution_count": 240,
     "metadata": {},
     "output_type": "execute_result"
    }
   ],
   "source": [
    "mounth_null_sort = data.notnull().sum().sort_values()\n",
    "mounthName_delete = mounth_null_sort[:11].index.values\n",
    "mounthName_delete"
   ]
  },
  {
   "cell_type": "code",
   "execution_count": 242,
   "metadata": {
    "collapsed": true
   },
   "outputs": [],
   "source": [
    "data = pd.DataFrame(DJI['Close'])\n",
    "for i in year:\n",
    "    data = data.join(quandl.get('FRED/' + i, start_date=\"1987-9-1\", end_date=\"2018-1-2\"))\n",
    "    data.rename(columns={'Value':i}, inplace = True)"
   ]
  },
  {
   "cell_type": "code",
   "execution_count": 243,
   "metadata": {},
   "outputs": [
    {
     "data": {
      "text/plain": [
       "Close    7627\n",
       "dtype: int64"
      ]
     },
     "execution_count": 243,
     "metadata": {},
     "output_type": "execute_result"
    }
   ],
   "source": [
    "data.notnull().sum().sort_values()\n",
    "#mounthName_delete = mounth_null_sort[:11].index.values\n",
    "#mounthName_delete"
   ]
  },
  {
   "cell_type": "code",
   "execution_count": 260,
   "metadata": {
    "collapsed": true
   },
   "outputs": [],
   "source": [
    "#pd.Series(dayName_delete).to_csv(\"dayName_delete.csv\" , encoding = \"utf-8\")\n",
    "#pd.Series(weekName_delete).to_csv(\"weekName_delete.csv\" , encoding = \"utf-8\")\n",
    "#pd.Series(mounthName_delete).to_csv(\"mounthName_delete.csv\" , encoding = \"utf-8\")\n",
    "#pd.Series(seasonName_delete).to_csv(\"seasonName_delete.csv\" , encoding = \"utf-8\")\n",
    "\n"
   ]
  },
  {
   "cell_type": "code",
   "execution_count": 274,
   "metadata": {
    "collapsed": true
   },
   "outputs": [],
   "source": [
    "periods = [day,week,mounth,season]\n",
    "data = pd.DataFrame(DJI['Close'])\n",
    "for p in periods:\n",
    "    #print p\n",
    "    for i in p:\n",
    "       # print i\n",
    "        data = data.join(quandl.get('FRED/' + i, start_date=\"1987-9-1\", end_date=\"2018-1-2\"))\n",
    "        data.rename(columns={'Value':i}, inplace = True)"
   ]
  },
  {
   "cell_type": "code",
   "execution_count": 275,
   "metadata": {
    "collapsed": true
   },
   "outputs": [],
   "source": [
    "periods_delete = [dayName_delete,weekName_delete,mounthName_delete,seasonName_delete]\n",
    "for i in periods_delete:\n",
    "    data = data.drop(i,axis=1)"
   ]
  },
  {
   "cell_type": "code",
   "execution_count": 279,
   "metadata": {},
   "outputs": [
    {
     "data": {
      "text/plain": [
       "[['DFF',\n",
       "  'DTB3',\n",
       "  'DGS5',\n",
       "  'DGS10',\n",
       "  'DGS30',\n",
       "  'T5YIE',\n",
       "  'T10YIE',\n",
       "  'T5YIFR',\n",
       "  'TEDRATE',\n",
       "  'DPRIME',\n",
       "  'DCOILWTICO',\n",
       "  'DTWEXM',\n",
       "  'DTWEXB',\n",
       "  'USEPUINDXD',\n",
       "  'USRECDM',\n",
       "  'USRECDP'],\n",
       " ['BASE',\n",
       "  'M1',\n",
       "  'M2',\n",
       "  'ICSA',\n",
       "  'IC4WSA',\n",
       "  'STLFSI',\n",
       "  'EXCSRESNW',\n",
       "  'TOTCI',\n",
       "  'GASREGCOVW',\n",
       "  'GDTCBW',\n",
       "  'GDDDCBW',\n",
       "  'GDBFRW'],\n",
       " ['CPIAUCSL',\n",
       "  'CPILFESL',\n",
       "  'UNRATE',\n",
       "  'CIVPART',\n",
       "  'UNEMPLOY',\n",
       "  'PAYEMS',\n",
       "  'MANEMP',\n",
       "  'DSPIC96',\n",
       "  'PCE',\n",
       "  'PCEDG',\n",
       "  'PSAVERT',\n",
       "  'RRSFS',\n",
       "  'DSPI',\n",
       "  'INDPRO',\n",
       "  'TCU',\n",
       "  'HOUST',\n",
       "  'USSLIND',\n",
       "  'IQ300',\n",
       "  'IR300',\n",
       "  'IR120',\n",
       "  'USSLIND',\n",
       "  'IR213COM',\n",
       "  'IQ213COM',\n",
       "  'IR21320',\n",
       "  'IR10000',\n",
       "  'IR14260',\n",
       "  'IR110',\n",
       "  'IQ00200',\n",
       "  'IQ21320',\n",
       "  'IR21300',\n",
       "  'IR14240',\n",
       "  'IR14250',\n",
       "  'IQ002',\n",
       "  'IQ12210',\n",
       "  'IQ00000',\n",
       "  'IR14220',\n",
       "  'IQ21300',\n",
       "  'PCU4842104842104',\n",
       "  'GASPRMREFM',\n",
       "  'GASMIDREFM',\n",
       "  'IR',\n",
       "  'IQ',\n",
       "  'MSACSRNSA',\n",
       "  'LNS14000006',\n",
       "  'LNU05000006',\n",
       "  'LNS12000006',\n",
       "  'LNS13000006',\n",
       "  'IQ10',\n",
       "  'HSN1FNSA',\n",
       "  'HSN1F',\n",
       "  'HNFSEPUSSA',\n",
       "  'HNFSUSNSA',\n",
       "  'LNU00000006',\n",
       "  'LNU02300006',\n",
       "  'LNS12300006',\n",
       "  'ASPNHSUS',\n",
       "  'FEDMINFRMWG',\n",
       "  'FEDMINNFRWG',\n",
       "  'LNU01300006',\n",
       "  'USGVDDNS',\n",
       "  'USGDCB',\n",
       "  'USGSEC'],\n",
       " ['GDP',\n",
       "  'GDPC1',\n",
       "  'GDPPOT',\n",
       "  'GDPDEF',\n",
       "  'M1V',\n",
       "  'M2V',\n",
       "  'NROU',\n",
       "  'NROUST',\n",
       "  'GPDI',\n",
       "  'CP',\n",
       "  'GFDEBTN',\n",
       "  'GFDEGDQ188S',\n",
       "  'W242RX1Q020SBEA',\n",
       "  'W240RX1Q020SBEA',\n",
       "  'EOCCUSEUSQ176N',\n",
       "  'W240RG3Q086SBEA',\n",
       "  'W242RG3Q086SBEA',\n",
       "  'W243RL1Q225SBEA',\n",
       "  'W241RL1Q225SBEA',\n",
       "  'W242RA3Q086SBEA',\n",
       "  'W240RA3Q086SBEA',\n",
       "  'RHORUSQ156N',\n",
       "  'RHVRUSQ156N',\n",
       "  'RRVRUSQ156N',\n",
       "  'A137RC1Q027SBEA',\n",
       "  'A145RC1Q027SBEA',\n",
       "  'ASPUS',\n",
       "  'ETOTALUSQ176N',\n",
       "  'EVACANTUSQ176N',\n",
       "  'NHSUSSPTQ',\n",
       "  'B908RL1Q225SBEA',\n",
       "  'B684RL1Q225SBEA',\n",
       "  'EYRVACUSQ176N',\n",
       "  'W243RA3Q086SBEA',\n",
       "  'W241RA3Q086SBEA']]"
      ]
     },
     "execution_count": 279,
     "metadata": {},
     "output_type": "execute_result"
    }
   ],
   "source": [
    "periods"
   ]
  },
  {
   "cell_type": "code",
   "execution_count": 278,
   "metadata": {
    "collapsed": true
   },
   "outputs": [],
   "source": [
    "data.to_csv(\"original_data.csv\" , encoding = \"utf-8\")"
   ]
  },
  {
   "cell_type": "code",
   "execution_count": 15,
   "metadata": {},
   "outputs": [],
   "source": [
    "odataPath = os.getcwd()+'/original_data.csv'\n",
    "odataset = pd.read_csv(odataPath,index_col=0)"
   ]
  },
  {
   "cell_type": "code",
   "execution_count": 8,
   "metadata": {},
   "outputs": [],
   "source": [
    "GOLD = quandl.get('WGC/GOLD_DAILYIND_USD', start_date=\"1987-9-1\", end_date=\"2018-1-30\")"
   ]
  },
  {
   "cell_type": "code",
   "execution_count": 12,
   "metadata": {},
   "outputs": [],
   "source": [
    "GOLD.rename(columns={'Value':'GOLD_DAILYIND_USD'}, inplace=True)"
   ]
  },
  {
   "cell_type": "code",
   "execution_count": 19,
   "metadata": {},
   "outputs": [],
   "source": [
    "odata_gold = odataset.join(GOLD)#.GOLD_DAILYIND_USD#.isnull().sum()"
   ]
  },
  {
   "cell_type": "code",
   "execution_count": 21,
   "metadata": {},
   "outputs": [],
   "source": [
    "odata_gold.to_csv(\"original_data1.csv\" , encoding = \"utf-8\")# 有gold的"
   ]
  },
  {
   "cell_type": "code",
   "execution_count": 39,
   "metadata": {
    "collapsed": true
   },
   "outputs": [],
   "source": [
    "period = GDP.index[1] - GDP.index[0]"
   ]
  },
  {
   "cell_type": "code",
   "execution_count": 71,
   "metadata": {},
   "outputs": [
    {
     "name": "stdout",
     "output_type": "stream",
     "text": [
      "ok\n"
     ]
    }
   ],
   "source": [
    "if period.days ==91 or period.days ==92 :\n",
    "    print('ok')"
   ]
  },
  {
   "cell_type": "code",
   "execution_count": 7,
   "metadata": {},
   "outputs": [
    {
     "data": {
      "text/html": [
       "<div>\n",
       "<style scoped>\n",
       "    .dataframe tbody tr th:only-of-type {\n",
       "        vertical-align: middle;\n",
       "    }\n",
       "\n",
       "    .dataframe tbody tr th {\n",
       "        vertical-align: top;\n",
       "    }\n",
       "\n",
       "    .dataframe thead th {\n",
       "        text-align: right;\n",
       "    }\n",
       "</style>\n",
       "<table border=\"1\" class=\"dataframe\">\n",
       "  <thead>\n",
       "    <tr style=\"text-align: right;\">\n",
       "      <th></th>\n",
       "      <th>Value</th>\n",
       "    </tr>\n",
       "    <tr>\n",
       "      <th>Date</th>\n",
       "      <th></th>\n",
       "    </tr>\n",
       "  </thead>\n",
       "  <tbody>\n",
       "    <tr>\n",
       "      <th>1987-09-01</th>\n",
       "      <td>157.661571</td>\n",
       "    </tr>\n",
       "    <tr>\n",
       "      <th>1987-09-02</th>\n",
       "      <td>160.910354</td>\n",
       "    </tr>\n",
       "    <tr>\n",
       "      <th>1987-09-03</th>\n",
       "      <td>161.118833</td>\n",
       "    </tr>\n",
       "    <tr>\n",
       "      <th>1987-09-04</th>\n",
       "      <td>161.483669</td>\n",
       "    </tr>\n",
       "    <tr>\n",
       "      <th>1987-09-07</th>\n",
       "      <td>161.049340</td>\n",
       "    </tr>\n",
       "    <tr>\n",
       "      <th>1987-09-08</th>\n",
       "      <td>158.773454</td>\n",
       "    </tr>\n",
       "    <tr>\n",
       "      <th>1987-09-09</th>\n",
       "      <td>159.242530</td>\n",
       "    </tr>\n",
       "    <tr>\n",
       "      <th>1987-09-10</th>\n",
       "      <td>159.902710</td>\n",
       "    </tr>\n",
       "    <tr>\n",
       "      <th>1987-09-11</th>\n",
       "      <td>159.781098</td>\n",
       "    </tr>\n",
       "    <tr>\n",
       "      <th>1987-09-14</th>\n",
       "      <td>158.287005</td>\n",
       "    </tr>\n",
       "    <tr>\n",
       "      <th>1987-09-15</th>\n",
       "      <td>159.416261</td>\n",
       "    </tr>\n",
       "    <tr>\n",
       "      <th>1987-09-16</th>\n",
       "      <td>159.277276</td>\n",
       "    </tr>\n",
       "    <tr>\n",
       "      <th>1987-09-17</th>\n",
       "      <td>160.006949</td>\n",
       "    </tr>\n",
       "    <tr>\n",
       "      <th>1987-09-18</th>\n",
       "      <td>160.423905</td>\n",
       "    </tr>\n",
       "    <tr>\n",
       "      <th>1987-09-21</th>\n",
       "      <td>159.520500</td>\n",
       "    </tr>\n",
       "    <tr>\n",
       "      <th>1987-09-22</th>\n",
       "      <td>160.371786</td>\n",
       "    </tr>\n",
       "    <tr>\n",
       "      <th>1987-09-23</th>\n",
       "      <td>160.667130</td>\n",
       "    </tr>\n",
       "    <tr>\n",
       "      <th>1987-09-24</th>\n",
       "      <td>161.223072</td>\n",
       "    </tr>\n",
       "    <tr>\n",
       "      <th>1987-09-25</th>\n",
       "      <td>160.458652</td>\n",
       "    </tr>\n",
       "    <tr>\n",
       "      <th>1987-09-28</th>\n",
       "      <td>160.128562</td>\n",
       "    </tr>\n",
       "    <tr>\n",
       "      <th>1987-09-29</th>\n",
       "      <td>159.624739</td>\n",
       "    </tr>\n",
       "    <tr>\n",
       "      <th>1987-09-30</th>\n",
       "      <td>159.659486</td>\n",
       "    </tr>\n",
       "    <tr>\n",
       "      <th>1987-10-01</th>\n",
       "      <td>158.061154</td>\n",
       "    </tr>\n",
       "    <tr>\n",
       "      <th>1987-10-02</th>\n",
       "      <td>157.870049</td>\n",
       "    </tr>\n",
       "    <tr>\n",
       "      <th>1987-10-05</th>\n",
       "      <td>158.617095</td>\n",
       "    </tr>\n",
       "    <tr>\n",
       "      <th>1987-10-06</th>\n",
       "      <td>159.138290</td>\n",
       "    </tr>\n",
       "    <tr>\n",
       "      <th>1987-10-07</th>\n",
       "      <td>159.155664</td>\n",
       "    </tr>\n",
       "    <tr>\n",
       "      <th>1987-10-08</th>\n",
       "      <td>159.190410</td>\n",
       "    </tr>\n",
       "    <tr>\n",
       "      <th>1987-10-09</th>\n",
       "      <td>160.545518</td>\n",
       "    </tr>\n",
       "    <tr>\n",
       "      <th>1987-10-12</th>\n",
       "      <td>160.441279</td>\n",
       "    </tr>\n",
       "    <tr>\n",
       "      <th>...</th>\n",
       "      <td>...</td>\n",
       "    </tr>\n",
       "    <tr>\n",
       "      <th>2017-12-20</th>\n",
       "      <td>439.384990</td>\n",
       "    </tr>\n",
       "    <tr>\n",
       "      <th>2017-12-21</th>\n",
       "      <td>439.384990</td>\n",
       "    </tr>\n",
       "    <tr>\n",
       "      <th>2017-12-22</th>\n",
       "      <td>439.384990</td>\n",
       "    </tr>\n",
       "    <tr>\n",
       "      <th>2017-12-25</th>\n",
       "      <td>439.384990</td>\n",
       "    </tr>\n",
       "    <tr>\n",
       "      <th>2017-12-26</th>\n",
       "      <td>439.384990</td>\n",
       "    </tr>\n",
       "    <tr>\n",
       "      <th>2017-12-27</th>\n",
       "      <td>444.544823</td>\n",
       "    </tr>\n",
       "    <tr>\n",
       "      <th>2017-12-28</th>\n",
       "      <td>448.575400</td>\n",
       "    </tr>\n",
       "    <tr>\n",
       "      <th>2017-12-29</th>\n",
       "      <td>448.575400</td>\n",
       "    </tr>\n",
       "    <tr>\n",
       "      <th>2018-01-01</th>\n",
       "      <td>448.575400</td>\n",
       "    </tr>\n",
       "    <tr>\n",
       "      <th>2018-01-02</th>\n",
       "      <td>455.889507</td>\n",
       "    </tr>\n",
       "    <tr>\n",
       "      <th>2018-01-03</th>\n",
       "      <td>456.879778</td>\n",
       "    </tr>\n",
       "    <tr>\n",
       "      <th>2018-01-04</th>\n",
       "      <td>456.740792</td>\n",
       "    </tr>\n",
       "    <tr>\n",
       "      <th>2018-01-05</th>\n",
       "      <td>457.661571</td>\n",
       "    </tr>\n",
       "    <tr>\n",
       "      <th>2018-01-08</th>\n",
       "      <td>458.634468</td>\n",
       "    </tr>\n",
       "    <tr>\n",
       "      <th>2018-01-09</th>\n",
       "      <td>455.524670</td>\n",
       "    </tr>\n",
       "    <tr>\n",
       "      <th>2018-01-10</th>\n",
       "      <td>458.564976</td>\n",
       "    </tr>\n",
       "    <tr>\n",
       "      <th>2018-01-11</th>\n",
       "      <td>459.711605</td>\n",
       "    </tr>\n",
       "    <tr>\n",
       "      <th>2018-01-12</th>\n",
       "      <td>461.014593</td>\n",
       "    </tr>\n",
       "    <tr>\n",
       "      <th>2018-01-15</th>\n",
       "      <td>465.340514</td>\n",
       "    </tr>\n",
       "    <tr>\n",
       "      <th>2018-01-16</th>\n",
       "      <td>463.464211</td>\n",
       "    </tr>\n",
       "    <tr>\n",
       "      <th>2018-01-17</th>\n",
       "      <td>464.089646</td>\n",
       "    </tr>\n",
       "    <tr>\n",
       "      <th>2018-01-18</th>\n",
       "      <td>462.890896</td>\n",
       "    </tr>\n",
       "    <tr>\n",
       "      <th>2018-01-19</th>\n",
       "      <td>463.846421</td>\n",
       "    </tr>\n",
       "    <tr>\n",
       "      <th>2018-01-22</th>\n",
       "      <td>463.029882</td>\n",
       "    </tr>\n",
       "    <tr>\n",
       "      <th>2018-01-23</th>\n",
       "      <td>463.307853</td>\n",
       "    </tr>\n",
       "    <tr>\n",
       "      <th>2018-01-24</th>\n",
       "      <td>470.361362</td>\n",
       "    </tr>\n",
       "    <tr>\n",
       "      <th>2018-01-25</th>\n",
       "      <td>470.795691</td>\n",
       "    </tr>\n",
       "    <tr>\n",
       "      <th>2018-01-26</th>\n",
       "      <td>470.170257</td>\n",
       "    </tr>\n",
       "    <tr>\n",
       "      <th>2018-01-29</th>\n",
       "      <td>466.938846</td>\n",
       "    </tr>\n",
       "    <tr>\n",
       "      <th>2018-01-30</th>\n",
       "      <td>467.303683</td>\n",
       "    </tr>\n",
       "  </tbody>\n",
       "</table>\n",
       "<p>7936 rows × 1 columns</p>\n",
       "</div>"
      ],
      "text/plain": [
       "                 Value\n",
       "Date                  \n",
       "1987-09-01  157.661571\n",
       "1987-09-02  160.910354\n",
       "1987-09-03  161.118833\n",
       "1987-09-04  161.483669\n",
       "1987-09-07  161.049340\n",
       "1987-09-08  158.773454\n",
       "1987-09-09  159.242530\n",
       "1987-09-10  159.902710\n",
       "1987-09-11  159.781098\n",
       "1987-09-14  158.287005\n",
       "1987-09-15  159.416261\n",
       "1987-09-16  159.277276\n",
       "1987-09-17  160.006949\n",
       "1987-09-18  160.423905\n",
       "1987-09-21  159.520500\n",
       "1987-09-22  160.371786\n",
       "1987-09-23  160.667130\n",
       "1987-09-24  161.223072\n",
       "1987-09-25  160.458652\n",
       "1987-09-28  160.128562\n",
       "1987-09-29  159.624739\n",
       "1987-09-30  159.659486\n",
       "1987-10-01  158.061154\n",
       "1987-10-02  157.870049\n",
       "1987-10-05  158.617095\n",
       "1987-10-06  159.138290\n",
       "1987-10-07  159.155664\n",
       "1987-10-08  159.190410\n",
       "1987-10-09  160.545518\n",
       "1987-10-12  160.441279\n",
       "...                ...\n",
       "2017-12-20  439.384990\n",
       "2017-12-21  439.384990\n",
       "2017-12-22  439.384990\n",
       "2017-12-25  439.384990\n",
       "2017-12-26  439.384990\n",
       "2017-12-27  444.544823\n",
       "2017-12-28  448.575400\n",
       "2017-12-29  448.575400\n",
       "2018-01-01  448.575400\n",
       "2018-01-02  455.889507\n",
       "2018-01-03  456.879778\n",
       "2018-01-04  456.740792\n",
       "2018-01-05  457.661571\n",
       "2018-01-08  458.634468\n",
       "2018-01-09  455.524670\n",
       "2018-01-10  458.564976\n",
       "2018-01-11  459.711605\n",
       "2018-01-12  461.014593\n",
       "2018-01-15  465.340514\n",
       "2018-01-16  463.464211\n",
       "2018-01-17  464.089646\n",
       "2018-01-18  462.890896\n",
       "2018-01-19  463.846421\n",
       "2018-01-22  463.029882\n",
       "2018-01-23  463.307853\n",
       "2018-01-24  470.361362\n",
       "2018-01-25  470.795691\n",
       "2018-01-26  470.170257\n",
       "2018-01-29  466.938846\n",
       "2018-01-30  467.303683\n",
       "\n",
       "[7936 rows x 1 columns]"
      ]
     },
     "execution_count": 7,
     "metadata": {},
     "output_type": "execute_result"
    }
   ],
   "source": [
    "GDP"
   ]
  },
  {
   "cell_type": "code",
   "execution_count": null,
   "metadata": {
    "collapsed": true
   },
   "outputs": [],
   "source": []
  }
 ],
 "metadata": {
  "kernelspec": {
   "display_name": "Python 2",
   "language": "python",
   "name": "python2"
  },
  "language_info": {
   "codemirror_mode": {
    "name": "ipython",
    "version": 2
   },
   "file_extension": ".py",
   "mimetype": "text/x-python",
   "name": "python",
   "nbconvert_exporter": "python",
   "pygments_lexer": "ipython2",
   "version": "2.7.14"
  }
 },
 "nbformat": 4,
 "nbformat_minor": 2
}
