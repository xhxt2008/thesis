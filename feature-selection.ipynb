{
 "cells": [
  {
   "cell_type": "code",
   "execution_count": 1,
   "metadata": {},
   "outputs": [],
   "source": [
    "import pandas as pd\n",
    "import numpy as np\n",
    "import matplotlib.pyplot as plt\n",
    "import os\n",
    "import seaborn as sns \n",
    "from xhxt2008 import classes2,classes3,classes5\n",
    "%matplotlib inline"
   ]
  },
  {
   "cell_type": "code",
   "execution_count": 2,
   "metadata": {},
   "outputs": [],
   "source": [
    "DataPath = os.getcwd()+'/data/processed_data1.csv'\n",
    "data = pd.read_csv(DataPath,index_col=0)"
   ]
  },
  {
   "cell_type": "code",
   "execution_count": 3,
   "metadata": {},
   "outputs": [],
   "source": [
    "close = data.Close_Y\n",
    "index1 = close.index\n",
    "close1=pd.DataFrame(close).join(pd.Series(np.zeros(len(close)),index=index1,name='zero'))"
   ]
  },
  {
   "cell_type": "code",
   "execution_count": 4,
   "metadata": {},
   "outputs": [
    {
     "name": "stderr",
     "output_type": "stream",
     "text": [
      "/Users/xhxt2008/anaconda/lib/python2.7/site-packages/ipykernel_launcher.py:3: FutureWarning: reshape is deprecated and will raise in a subsequent release. Please use .values.reshape(...) instead\n",
      "  This is separate from the ipykernel package so we can avoid doing imports until\n"
     ]
    },
    {
     "data": {
      "text/plain": [
       "KMeans(algorithm='auto', copy_x=True, init='k-means++', max_iter=300,\n",
       "    n_clusters=3, n_init=10, n_jobs=1, precompute_distances='auto',\n",
       "    random_state=0, tol=0.0001, verbose=0)"
      ]
     },
     "execution_count": 4,
     "metadata": {},
     "output_type": "execute_result"
    }
   ],
   "source": [
    "from sklearn.cluster import KMeans\n",
    "kmeans = KMeans(n_clusters=3, random_state=0)\n",
    "kmeans.fit(data.Close_Y.reshape(-1, 1))"
   ]
  },
  {
   "cell_type": "code",
   "execution_count": 5,
   "metadata": {},
   "outputs": [
    {
     "data": {
      "text/plain": [
       "1    5046\n",
       "2    1409\n",
       "0    1170\n",
       "dtype: int64"
      ]
     },
     "execution_count": 5,
     "metadata": {},
     "output_type": "execute_result"
    }
   ],
   "source": [
    "pd.Series(kmeans.labels_).value_counts()"
   ]
  },
  {
   "cell_type": "code",
   "execution_count": 6,
   "metadata": {},
   "outputs": [],
   "source": [
    "zero = pd.Series(kmeans.labels_,index=index1,name='zero')\n",
    "data = data.join(zero)\n",
    "#data = data1.pop('Close_Y')"
   ]
  },
  {
   "cell_type": "code",
   "execution_count": 7,
   "metadata": {},
   "outputs": [
    {
     "data": {
      "text/plain": [
       "<matplotlib.collections.PathCollection at 0x1a10e06d90>"
      ]
     },
     "execution_count": 7,
     "metadata": {},
     "output_type": "execute_result"
    },
    {
     "data": {
      "image/png": "[encoded data removed]",
      "text/plain": [
       "<matplotlib.figure.Figure at 0x1a0ad15b50>"
      ]
     },
     "metadata": {},
     "output_type": "display_data"
    }
   ],
   "source": [
    "#lineoffsets1 = np.array([-15, -3, 1, 1.5, 6, 10])\n",
    "plt.subplots(figsize=(15, 5))\n",
    "plt.scatter(close1.Close,close1.zero,c=kmeans.labels_)"
   ]
  },
  {
   "cell_type": "code",
   "execution_count": 7,
   "metadata": {},
   "outputs": [],
   "source": [
    "# \n",
    "odata = data.copy()\n",
    "Close_Y = data.Close_Y\n",
    "noNeed = data.pop('Close_Y')"
   ]
  },
  {
   "cell_type": "code",
   "execution_count": 8,
   "metadata": {},
   "outputs": [],
   "source": [
    "Y = classes2(Close_Y)"
   ]
  },
  {
   "cell_type": "code",
   "execution_count": 9,
   "metadata": {},
   "outputs": [],
   "source": [
    "index = data.index\n",
    "columns = data.columns"
   ]
  },
  {
   "cell_type": "code",
   "execution_count": 10,
   "metadata": {},
   "outputs": [],
   "source": [
    "from sklearn.preprocessing import StandardScaler\n",
    "#fit_transform\n",
    "scaler = StandardScaler()\n",
    "scaler_data = scaler.fit_transform(data)"
   ]
  },
  {
   "cell_type": "code",
   "execution_count": 11,
   "metadata": {},
   "outputs": [],
   "source": [
    "scalered_data = pd.DataFrame(scaler_data,columns =columns,index=index)"
   ]
  },
  {
   "cell_type": "code",
   "execution_count": 12,
   "metadata": {},
   "outputs": [],
   "source": [
    "# 特征选择\n",
    "#data = data.loc[:,selected_fea]"
   ]
  },
  {
   "cell_type": "markdown",
   "metadata": {},
   "source": [
    "## 划分训练集"
   ]
  },
  {
   "cell_type": "code",
   "execution_count": 12,
   "metadata": {},
   "outputs": [],
   "source": [
    "from sklearn.model_selection import train_test_split\n",
    "X_train, X_test, y_train, y_test = train_test_split(scalered_data, Y, test_size=0.2, random_state=42)"
   ]
  },
  {
   "cell_type": "markdown",
   "metadata": {},
   "source": [
    "## 训练"
   ]
  },
  {
   "cell_type": "code",
   "execution_count": 13,
   "metadata": {},
   "outputs": [],
   "source": [
    "from sklearn.ensemble import RandomForestClassifier\n"
   ]
  },
  {
   "cell_type": "code",
   "execution_count": 14,
   "metadata": {},
   "outputs": [],
   "source": [
    "clf = RandomForestClassifier(oob_score=True,random_state=0,n_estimators =100)"
   ]
  },
  {
   "cell_type": "code",
   "execution_count": 15,
   "metadata": {},
   "outputs": [
    {
     "data": {
      "text/plain": [
       "RandomForestClassifier(bootstrap=True, class_weight=None, criterion='gini',\n",
       "            max_depth=None, max_features='auto', max_leaf_nodes=None,\n",
       "            min_impurity_decrease=0.0, min_impurity_split=None,\n",
       "            min_samples_leaf=1, min_samples_split=2,\n",
       "            min_weight_fraction_leaf=0.0, n_estimators=100, n_jobs=1,\n",
       "            oob_score=True, random_state=0, verbose=0, warm_start=False)"
      ]
     },
     "execution_count": 15,
     "metadata": {},
     "output_type": "execute_result"
    }
   ],
   "source": [
    "clf.fit(X_train,y_train)"
   ]
  },
  {
   "cell_type": "code",
   "execution_count": 16,
   "metadata": {},
   "outputs": [],
   "source": [
    "result = clf.predict(X_test)"
   ]
  },
  {
   "cell_type": "code",
   "execution_count": 17,
   "metadata": {},
   "outputs": [
    {
     "data": {
      "text/plain": [
       "1    859\n",
       "0    666\n",
       "dtype: int64"
      ]
     },
     "execution_count": 17,
     "metadata": {},
     "output_type": "execute_result"
    }
   ],
   "source": [
    "pd.Series(result).value_counts()"
   ]
  },
  {
   "cell_type": "code",
   "execution_count": 18,
   "metadata": {},
   "outputs": [],
   "source": [
    "from sklearn.metrics import accuracy_score"
   ]
  },
  {
   "cell_type": "code",
   "execution_count": 19,
   "metadata": {},
   "outputs": [
    {
     "data": {
      "text/plain": [
       "0.499672131147541"
      ]
     },
     "execution_count": 19,
     "metadata": {},
     "output_type": "execute_result"
    }
   ],
   "source": [
    "accuracy_score(y_test, result)"
   ]
  },
  {
   "cell_type": "code",
   "execution_count": 20,
   "metadata": {},
   "outputs": [
    {
     "data": {
      "text/plain": [
       "0.5016393442622951"
      ]
     },
     "execution_count": 20,
     "metadata": {},
     "output_type": "execute_result"
    }
   ],
   "source": [
    "clf.oob_score_"
   ]
  },
  {
   "cell_type": "code",
   "execution_count": 18,
   "metadata": {},
   "outputs": [
    {
     "data": {
      "text/plain": [
       "array([5.99267534e-02, 4.87770655e-02, 5.46076567e-02, 5.59145943e-02,\n",
       "       5.17011278e-02, 1.21639623e-03, 5.95732873e-02, 6.03622939e-02,\n",
       "       5.88163795e-02, 3.36501782e-02, 3.29313761e-02, 3.18836931e-02,\n",
       "       4.07043037e-02, 3.43334080e-02, 3.22457404e-02, 3.34572441e-02,\n",
       "       5.29378981e-03, 4.95675132e-03, 4.09436333e-03, 3.72299727e-03,\n",
       "       4.70814298e-03, 4.75940529e-03, 4.80164600e-03, 5.19940650e-03,\n",
       "       5.08059215e-03, 5.52785602e-03, 4.91424418e-03, 4.77815081e-03,\n",
       "       5.13375749e-03, 5.21811144e-03, 5.40729317e-03, 4.20184696e-03,\n",
       "       3.38226520e-03, 3.43744476e-03, 5.42804217e-03, 4.36739681e-03,\n",
       "       4.39341592e-03, 4.37971463e-03, 4.72354398e-03, 4.63652514e-03,\n",
       "       4.84728225e-03, 4.92435738e-03, 4.23371594e-03, 4.55545294e-03,\n",
       "       5.03952228e-03, 5.21196373e-03, 4.40236123e-03, 4.94446541e-03,\n",
       "       4.36401273e-03, 4.89127587e-03, 4.58278156e-03, 4.79215649e-03,\n",
       "       4.78716550e-03, 4.38467041e-03, 5.03048481e-03, 4.39522674e-03,\n",
       "       4.50652971e-03, 4.49004447e-03, 4.61166372e-03, 4.28681275e-03,\n",
       "       4.53657465e-03, 2.19339222e-04, 9.35822637e-05, 5.10410394e-03,\n",
       "       4.79931999e-03, 4.58392883e-03, 4.52336371e-03, 2.72349385e-03,\n",
       "       3.03395817e-03, 2.87332685e-03, 2.72865289e-03, 2.84840460e-03,\n",
       "       2.58205092e-03, 2.41175163e-03, 2.70827064e-03, 3.00437783e-03,\n",
       "       2.88607584e-03, 2.98066622e-03, 2.79227857e-03, 2.64746859e-03,\n",
       "       2.91972997e-03, 3.50442864e-03, 2.68217663e-03, 2.94280660e-03,\n",
       "       2.72005387e-03, 3.19301341e-03, 1.91284443e-03, 2.99931185e-03,\n",
       "       3.10043206e-03, 2.81337211e-03, 3.20835755e-03, 2.96325746e-03,\n",
       "       2.80875600e-03, 3.11867908e-03, 3.10164366e-03])"
      ]
     },
     "execution_count": 18,
     "metadata": {},
     "output_type": "execute_result"
    }
   ],
   "source": [
    "clf.feature_importances_"
   ]
  },
  {
   "cell_type": "code",
   "execution_count": 21,
   "metadata": {},
   "outputs": [],
   "source": [
    "from sklearn.feature_selection import f_classif"
   ]
  },
  {
   "cell_type": "code",
   "execution_count": 22,
   "metadata": {},
   "outputs": [],
   "source": [
    "f_score = f_classif(X_train,y_train)\n",
    "#pd.DataFrame(f_score)\n",
    "col = X_train.columns"
   ]
  },
  {
   "cell_type": "code",
   "execution_count": 23,
   "metadata": {},
   "outputs": [],
   "source": [
    "fea_f = pd.Series(f_score[0],index=col)"
   ]
  },
  {
   "cell_type": "code",
   "execution_count": 24,
   "metadata": {},
   "outputs": [],
   "source": [
    "fea_f_sort = fea_f.sort_values(ascending = False)"
   ]
  },
  {
   "cell_type": "code",
   "execution_count": 26,
   "metadata": {},
   "outputs": [
    {
     "data": {
      "text/plain": [
       "0.8741425097187162"
      ]
     },
     "execution_count": 26,
     "metadata": {},
     "output_type": "execute_result"
    }
   ],
   "source": [
    "fea_f_sort.GOLD_DAILYIND_USD#.index.values[:35]"
   ]
  },
  {
   "cell_type": "code",
   "execution_count": null,
   "metadata": {},
   "outputs": [],
   "source": []
  },
  {
   "cell_type": "code",
   "execution_count": 44,
   "metadata": {},
   "outputs": [],
   "source": [
    "selected_fea = fea_f_sort.index.values[:35]"
   ]
  },
  {
   "cell_type": "code",
   "execution_count": 91,
   "metadata": {},
   "outputs": [],
   "source": [
    "from sklearn.model_selection import GridSearchCV\n",
    "from sklearn.model_selection import StratifiedKFold\n"
   ]
  },
  {
   "cell_type": "code",
   "execution_count": 92,
   "metadata": {},
   "outputs": [],
   "source": [
    "kfold = StratifiedKFold(n_splits=10, shuffle=True, random_state=3)"
   ]
  },
  {
   "cell_type": "markdown",
   "metadata": {},
   "source": [
    "## n_estimators"
   ]
  },
  {
   "cell_type": "code",
   "execution_count": 93,
   "metadata": {},
   "outputs": [
    {
     "data": {
      "text/plain": [
       "{'n_estimators': array([100, 200, 300, 400, 500, 600, 700, 800, 900])}"
      ]
     },
     "execution_count": 93,
     "metadata": {},
     "output_type": "execute_result"
    }
   ],
   "source": [
    "n_estimators = np.arange(100,1000,100)\n",
    "param_test1 = dict(n_estimators=n_estimators)\n",
    "param_test1"
   ]
  },
  {
   "cell_type": "code",
   "execution_count": 94,
   "metadata": {},
   "outputs": [
    {
     "name": "stderr",
     "output_type": "stream",
     "text": [
      "/Users/xhxt2008/anaconda/lib/python2.7/site-packages/sklearn/model_selection/_search.py:761: DeprecationWarning: The grid_scores_ attribute was deprecated in version 0.18 in favor of the more elaborate cv_results_ attribute. The grid_scores_ attribute will not be available from 0.20\n",
      "  DeprecationWarning)\n"
     ]
    },
    {
     "data": {
      "text/plain": [
       "([mean: 0.59180, std: 0.02012, params: {'n_estimators': 100},\n",
       "  mean: 0.60295, std: 0.01921, params: {'n_estimators': 200},\n",
       "  mean: 0.60066, std: 0.01667, params: {'n_estimators': 300},\n",
       "  mean: 0.60492, std: 0.01542, params: {'n_estimators': 400},\n",
       "  mean: 0.60262, std: 0.01577, params: {'n_estimators': 500},\n",
       "  mean: 0.60410, std: 0.01641, params: {'n_estimators': 600},\n",
       "  mean: 0.60180, std: 0.01455, params: {'n_estimators': 700},\n",
       "  mean: 0.60098, std: 0.01302, params: {'n_estimators': 800},\n",
       "  mean: 0.60082, std: 0.01582, params: {'n_estimators': 900}],\n",
       " {'n_estimators': 400},\n",
       " 0.6049180327868853)"
      ]
     },
     "execution_count": 94,
     "metadata": {},
     "output_type": "execute_result"
    }
   ],
   "source": [
    "clf = RandomForestClassifier(oob_score=True,\n",
    "                             random_state=0)\n",
    "\n",
    "gsearch2 = GridSearchCV(clf, param_grid = param_test1, scoring='accuracy',n_jobs=-1, cv=kfold)\n",
    "gsearch2.fit(X_train , y_train)\n",
    "gsearch2.grid_scores_, gsearch2.best_params_,     gsearch2.best_score_"
   ]
  },
  {
   "cell_type": "markdown",
   "metadata": {},
   "source": [
    "## max_depth min_samples_split"
   ]
  },
  {
   "cell_type": "code",
   "execution_count": 97,
   "metadata": {},
   "outputs": [
    {
     "data": {
      "text/plain": [
       "{'max_depth': array([10, 12, 14, 16, 18]),\n",
       " 'min_samples_split': array([150, 170, 190, 210, 230, 250, 270, 290])}"
      ]
     },
     "execution_count": 97,
     "metadata": {},
     "output_type": "execute_result"
    }
   ],
   "source": [
    "max_depth = np.arange(10,20,2)\n",
    "min_samples_split = np.arange(150,301,20)\n",
    "\n",
    "param_test2 = dict(max_depth=max_depth,min_samples_split=min_samples_split)\n",
    "param_test2"
   ]
  },
  {
   "cell_type": "code",
   "execution_count": 98,
   "metadata": {},
   "outputs": [
    {
     "name": "stderr",
     "output_type": "stream",
     "text": [
      "/Users/xhxt2008/anaconda/lib/python2.7/site-packages/sklearn/model_selection/_search.py:761: DeprecationWarning: The grid_scores_ attribute was deprecated in version 0.18 in favor of the more elaborate cv_results_ attribute. The grid_scores_ attribute will not be available from 0.20\n",
      "  DeprecationWarning)\n"
     ]
    },
    {
     "data": {
      "text/plain": [
       "([mean: 0.58672, std: 0.01391, params: {'min_samples_split': 150, 'max_depth': 10},\n",
       "  mean: 0.58508, std: 0.01203, params: {'min_samples_split': 170, 'max_depth': 10},\n",
       "  mean: 0.57590, std: 0.01771, params: {'min_samples_split': 190, 'max_depth': 10},\n",
       "  mean: 0.57492, std: 0.01732, params: {'min_samples_split': 210, 'max_depth': 10},\n",
       "  mean: 0.57131, std: 0.01717, params: {'min_samples_split': 230, 'max_depth': 10},\n",
       "  mean: 0.56934, std: 0.01709, params: {'min_samples_split': 250, 'max_depth': 10},\n",
       "  mean: 0.57131, std: 0.01593, params: {'min_samples_split': 270, 'max_depth': 10},\n",
       "  mean: 0.56918, std: 0.01305, params: {'min_samples_split': 290, 'max_depth': 10},\n",
       "  mean: 0.59525, std: 0.01426, params: {'min_samples_split': 150, 'max_depth': 12},\n",
       "  mean: 0.58902, std: 0.01262, params: {'min_samples_split': 170, 'max_depth': 12},\n",
       "  mean: 0.58049, std: 0.01599, params: {'min_samples_split': 190, 'max_depth': 12},\n",
       "  mean: 0.57820, std: 0.01583, params: {'min_samples_split': 210, 'max_depth': 12},\n",
       "  mean: 0.57328, std: 0.01597, params: {'min_samples_split': 230, 'max_depth': 12},\n",
       "  mean: 0.57164, std: 0.01392, params: {'min_samples_split': 250, 'max_depth': 12},\n",
       "  mean: 0.57459, std: 0.01588, params: {'min_samples_split': 270, 'max_depth': 12},\n",
       "  mean: 0.57016, std: 0.01371, params: {'min_samples_split': 290, 'max_depth': 12},\n",
       "  mean: 0.59246, std: 0.01525, params: {'min_samples_split': 150, 'max_depth': 14},\n",
       "  mean: 0.59213, std: 0.01425, params: {'min_samples_split': 170, 'max_depth': 14},\n",
       "  mean: 0.58623, std: 0.01524, params: {'min_samples_split': 190, 'max_depth': 14},\n",
       "  mean: 0.58000, std: 0.01643, params: {'min_samples_split': 210, 'max_depth': 14},\n",
       "  mean: 0.57607, std: 0.01498, params: {'min_samples_split': 230, 'max_depth': 14},\n",
       "  mean: 0.57459, std: 0.01528, params: {'min_samples_split': 250, 'max_depth': 14},\n",
       "  mean: 0.57475, std: 0.01576, params: {'min_samples_split': 270, 'max_depth': 14},\n",
       "  mean: 0.57115, std: 0.01521, params: {'min_samples_split': 290, 'max_depth': 14},\n",
       "  mean: 0.59393, std: 0.01268, params: {'min_samples_split': 150, 'max_depth': 16},\n",
       "  mean: 0.59213, std: 0.01303, params: {'min_samples_split': 170, 'max_depth': 16},\n",
       "  mean: 0.58689, std: 0.01234, params: {'min_samples_split': 190, 'max_depth': 16},\n",
       "  mean: 0.58000, std: 0.01435, params: {'min_samples_split': 210, 'max_depth': 16},\n",
       "  mean: 0.57656, std: 0.01524, params: {'min_samples_split': 230, 'max_depth': 16},\n",
       "  mean: 0.57377, std: 0.01437, params: {'min_samples_split': 250, 'max_depth': 16},\n",
       "  mean: 0.57639, std: 0.01542, params: {'min_samples_split': 270, 'max_depth': 16},\n",
       "  mean: 0.57197, std: 0.01492, params: {'min_samples_split': 290, 'max_depth': 16},\n",
       "  mean: 0.59426, std: 0.01458, params: {'min_samples_split': 150, 'max_depth': 18},\n",
       "  mean: 0.59361, std: 0.01293, params: {'min_samples_split': 170, 'max_depth': 18},\n",
       "  mean: 0.58541, std: 0.01292, params: {'min_samples_split': 190, 'max_depth': 18},\n",
       "  mean: 0.58082, std: 0.01495, params: {'min_samples_split': 210, 'max_depth': 18},\n",
       "  mean: 0.57689, std: 0.01420, params: {'min_samples_split': 230, 'max_depth': 18},\n",
       "  mean: 0.57459, std: 0.01371, params: {'min_samples_split': 250, 'max_depth': 18},\n",
       "  mean: 0.57689, std: 0.01584, params: {'min_samples_split': 270, 'max_depth': 18},\n",
       "  mean: 0.57213, std: 0.01510, params: {'min_samples_split': 290, 'max_depth': 18}],\n",
       " {'max_depth': 12, 'min_samples_split': 150},\n",
       " 0.5952459016393442)"
      ]
     },
     "execution_count": 98,
     "metadata": {},
     "output_type": "execute_result"
    }
   ],
   "source": [
    "clf = RandomForestClassifier(oob_score=True,\n",
    "                             random_state=0,\n",
    "                             n_estimators=100\n",
    "                             )\n",
    "\n",
    "gsearch3 = GridSearchCV(clf, param_grid = param_test2, scoring='accuracy',n_jobs=-1, cv=kfold)\n",
    "gsearch3.fit(X_train , y_train)\n",
    "gsearch3.grid_scores_, gsearch3.best_params_,     gsearch3.best_score_"
   ]
  },
  {
   "cell_type": "markdown",
   "metadata": {},
   "source": [
    "## min_samples_split min_samples_leaf"
   ]
  },
  {
   "cell_type": "code",
   "execution_count": 103,
   "metadata": {},
   "outputs": [
    {
     "data": {
      "text/plain": [
       "{'min_samples_leaf': array([ 5, 10, 15, 20, 25]),\n",
       " 'min_samples_split': array([ 50,  70,  90, 110, 130, 150, 170, 190])}"
      ]
     },
     "execution_count": 103,
     "metadata": {},
     "output_type": "execute_result"
    }
   ],
   "source": [
    "min_samples_leaf = np.arange(5,30,5)\n",
    "min_samples_split = np.arange(50,191,20)\n",
    "\n",
    "param_test3 = dict(min_samples_leaf=min_samples_leaf,min_samples_split=min_samples_split)\n",
    "param_test3"
   ]
  },
  {
   "cell_type": "code",
   "execution_count": 104,
   "metadata": {},
   "outputs": [
    {
     "name": "stderr",
     "output_type": "stream",
     "text": [
      "/Users/xhxt2008/anaconda/lib/python2.7/site-packages/sklearn/model_selection/_search.py:761: DeprecationWarning: The grid_scores_ attribute was deprecated in version 0.18 in favor of the more elaborate cv_results_ attribute. The grid_scores_ attribute will not be available from 0.20\n",
      "  DeprecationWarning)\n"
     ]
    },
    {
     "data": {
      "text/plain": [
       "([mean: 0.60148, std: 0.01480, params: {'min_samples_split': 50, 'min_samples_leaf': 5},\n",
       "  mean: 0.60459, std: 0.01036, params: {'min_samples_split': 70, 'min_samples_leaf': 5},\n",
       "  mean: 0.60066, std: 0.01616, params: {'min_samples_split': 90, 'min_samples_leaf': 5},\n",
       "  mean: 0.59672, std: 0.01589, params: {'min_samples_split': 110, 'min_samples_leaf': 5},\n",
       "  mean: 0.59328, std: 0.01102, params: {'min_samples_split': 130, 'min_samples_leaf': 5},\n",
       "  mean: 0.59016, std: 0.01357, params: {'min_samples_split': 150, 'min_samples_leaf': 5},\n",
       "  mean: 0.58721, std: 0.01285, params: {'min_samples_split': 170, 'min_samples_leaf': 5},\n",
       "  mean: 0.58115, std: 0.01412, params: {'min_samples_split': 190, 'min_samples_leaf': 5},\n",
       "  mean: 0.60492, std: 0.01437, params: {'min_samples_split': 50, 'min_samples_leaf': 10},\n",
       "  mean: 0.60590, std: 0.01034, params: {'min_samples_split': 70, 'min_samples_leaf': 10},\n",
       "  mean: 0.59967, std: 0.01475, params: {'min_samples_split': 90, 'min_samples_leaf': 10},\n",
       "  mean: 0.59410, std: 0.01251, params: {'min_samples_split': 110, 'min_samples_leaf': 10},\n",
       "  mean: 0.59066, std: 0.01058, params: {'min_samples_split': 130, 'min_samples_leaf': 10},\n",
       "  mean: 0.59361, std: 0.01174, params: {'min_samples_split': 150, 'min_samples_leaf': 10},\n",
       "  mean: 0.58639, std: 0.01123, params: {'min_samples_split': 170, 'min_samples_leaf': 10},\n",
       "  mean: 0.58230, std: 0.01544, params: {'min_samples_split': 190, 'min_samples_leaf': 10},\n",
       "  mean: 0.60574, std: 0.01301, params: {'min_samples_split': 50, 'min_samples_leaf': 15},\n",
       "  mean: 0.60803, std: 0.01727, params: {'min_samples_split': 70, 'min_samples_leaf': 15},\n",
       "  mean: 0.59770, std: 0.01552, params: {'min_samples_split': 90, 'min_samples_leaf': 15},\n",
       "  mean: 0.59344, std: 0.01634, params: {'min_samples_split': 110, 'min_samples_leaf': 15},\n",
       "  mean: 0.59016, std: 0.01192, params: {'min_samples_split': 130, 'min_samples_leaf': 15},\n",
       "  mean: 0.58770, std: 0.01363, params: {'min_samples_split': 150, 'min_samples_leaf': 15},\n",
       "  mean: 0.58328, std: 0.01037, params: {'min_samples_split': 170, 'min_samples_leaf': 15},\n",
       "  mean: 0.58098, std: 0.01289, params: {'min_samples_split': 190, 'min_samples_leaf': 15},\n",
       "  mean: 0.60525, std: 0.01356, params: {'min_samples_split': 50, 'min_samples_leaf': 20},\n",
       "  mean: 0.59885, std: 0.01315, params: {'min_samples_split': 70, 'min_samples_leaf': 20},\n",
       "  mean: 0.59590, std: 0.01162, params: {'min_samples_split': 90, 'min_samples_leaf': 20},\n",
       "  mean: 0.59164, std: 0.01336, params: {'min_samples_split': 110, 'min_samples_leaf': 20},\n",
       "  mean: 0.58803, std: 0.01391, params: {'min_samples_split': 130, 'min_samples_leaf': 20},\n",
       "  mean: 0.58639, std: 0.01171, params: {'min_samples_split': 150, 'min_samples_leaf': 20},\n",
       "  mean: 0.58377, std: 0.01092, params: {'min_samples_split': 170, 'min_samples_leaf': 20},\n",
       "  mean: 0.57869, std: 0.01145, params: {'min_samples_split': 190, 'min_samples_leaf': 20},\n",
       "  mean: 0.59623, std: 0.01180, params: {'min_samples_split': 50, 'min_samples_leaf': 25},\n",
       "  mean: 0.59475, std: 0.01294, params: {'min_samples_split': 70, 'min_samples_leaf': 25},\n",
       "  mean: 0.59295, std: 0.01260, params: {'min_samples_split': 90, 'min_samples_leaf': 25},\n",
       "  mean: 0.58590, std: 0.01180, params: {'min_samples_split': 110, 'min_samples_leaf': 25},\n",
       "  mean: 0.58574, std: 0.01221, params: {'min_samples_split': 130, 'min_samples_leaf': 25},\n",
       "  mean: 0.58787, std: 0.01292, params: {'min_samples_split': 150, 'min_samples_leaf': 25},\n",
       "  mean: 0.58426, std: 0.01237, params: {'min_samples_split': 170, 'min_samples_leaf': 25},\n",
       "  mean: 0.57705, std: 0.01344, params: {'min_samples_split': 190, 'min_samples_leaf': 25}],\n",
       " {'min_samples_leaf': 15, 'min_samples_split': 70},\n",
       " 0.6080327868852459)"
      ]
     },
     "execution_count": 104,
     "metadata": {},
     "output_type": "execute_result"
    }
   ],
   "source": [
    "clf = RandomForestClassifier(oob_score=True,\n",
    "                             random_state=0,\n",
    "                             n_estimators=100,\n",
    "                             max_depth=12,\n",
    "                             \n",
    "                             )\n",
    "\n",
    "gsearch4 = GridSearchCV(clf, param_grid = param_test3, scoring='accuracy',n_jobs=-1, cv=kfold)\n",
    "gsearch4.fit(X_train , y_train)\n",
    "gsearch4.grid_scores_, gsearch4.best_params_,     gsearch4.best_score_"
   ]
  },
  {
   "cell_type": "markdown",
   "metadata": {},
   "source": [
    "## min_samples_split min_samples_leaf"
   ]
  },
  {
   "cell_type": "code",
   "execution_count": 112,
   "metadata": {},
   "outputs": [
    {
     "data": {
      "text/plain": [
       "{'max_features': array([0.8, 0.9, 1. ])}"
      ]
     },
     "execution_count": 112,
     "metadata": {},
     "output_type": "execute_result"
    }
   ],
   "source": [
    "#max_features = ['sqrt','log2','auto']\n",
    "max_features = np.arange(0.8,1.01,0.1)\n",
    "param_test4 = dict(max_features=max_features)\n",
    "param_test4"
   ]
  },
  {
   "cell_type": "code",
   "execution_count": 113,
   "metadata": {},
   "outputs": [
    {
     "name": "stderr",
     "output_type": "stream",
     "text": [
      "/Users/xhxt2008/anaconda/lib/python2.7/site-packages/sklearn/model_selection/_search.py:761: DeprecationWarning: The grid_scores_ attribute was deprecated in version 0.18 in favor of the more elaborate cv_results_ attribute. The grid_scores_ attribute will not be available from 0.20\n",
      "  DeprecationWarning)\n"
     ]
    },
    {
     "data": {
      "text/plain": [
       "([mean: 0.70180, std: 0.01462, params: {'max_features': 0.8},\n",
       "  mean: 0.69984, std: 0.01506, params: {'max_features': 0.9},\n",
       "  mean: 0.70098, std: 0.01572, params: {'max_features': 1.0}],\n",
       " {'max_features': 0.8},\n",
       " 0.7018032786885245)"
      ]
     },
     "execution_count": 113,
     "metadata": {},
     "output_type": "execute_result"
    }
   ],
   "source": [
    "clf = RandomForestClassifier(oob_score=True,\n",
    "                             random_state=0,\n",
    "                             n_estimators=100,\n",
    "                             max_depth=12,\n",
    "                             min_samples_split=70,\n",
    "                             min_samples_leaf=15\n",
    "                             )\n",
    "\n",
    "gsearch5 = GridSearchCV(clf, param_grid = param_test4, scoring='accuracy',n_jobs=-1, cv=kfold)\n",
    "gsearch5.fit(X_train , y_train)\n",
    "gsearch5.grid_scores_, gsearch5.best_params_,     gsearch5.best_score_"
   ]
  },
  {
   "cell_type": "code",
   "execution_count": 23,
   "metadata": {},
   "outputs": [
    {
     "data": {
      "text/plain": [
       "-0.053974    4017\n",
       " 1.667997    1130\n",
       "-1.775945     953\n",
       "Name: zero, dtype: int64"
      ]
     },
     "execution_count": 23,
     "metadata": {},
     "output_type": "execute_result"
    }
   ],
   "source": [
    "X_train.zero.value_counts()"
   ]
  },
  {
   "cell_type": "code",
   "execution_count": 115,
   "metadata": {},
   "outputs": [
    {
     "data": {
      "text/plain": [
       "0.33704918032786885"
      ]
     },
     "execution_count": 115,
     "metadata": {},
     "output_type": "execute_result"
    }
   ],
   "source": [
    "clf.fit(X_test,y_test)\n",
    "clf.oob_score_"
   ]
  },
  {
   "cell_type": "code",
   "execution_count": 99,
   "metadata": {},
   "outputs": [
    {
     "data": {
      "text/plain": [
       "array(['Close', 'DFF', 'DGS5', 'DGS10', 'TEDRATE', 'DPRIME', 'DCOILWTICO',\n",
       "       'DTWEXM', 'USEPUINDXD', 'M1', 'M2', 'EXCSRESNW', 'TOTCI', 'GDTCBW',\n",
       "       'GDDDCBW', 'GDBFRW', 'CPIAUCSL', 'CPILFESL', 'UNRATE', 'CIVPART',\n",
       "       'UNEMPLOY', 'PAYEMS', 'MANEMP', 'DSPIC96', 'PCE', 'PCEDG',\n",
       "       'PSAVERT', 'DSPI', 'INDPRO', 'TCU', 'HOUST', 'USSLIND', 'IQ300',\n",
       "       'IR300', 'IR120', 'USSLIND.1', 'IR213COM', 'IQ213COM', 'IR21320',\n",
       "       'IR10000', 'IQ00200', 'IQ21320', 'IQ002', 'IQ00000', 'IQ21300',\n",
       "       'IR', 'IQ', 'MSACSRNSA', 'LNS14000006', 'LNU05000006',\n",
       "       'LNS12000006', 'LNS13000006', 'IQ10', 'HSN1FNSA', 'HSN1F',\n",
       "       'HNFSEPUSSA', 'HNFSUSNSA', 'LNU00000006', 'LNU02300006',\n",
       "       'LNS12300006', 'ASPNHSUS', 'FEDMINFRMWG', 'FEDMINNFRWG',\n",
       "       'LNU01300006', 'USGVDDNS', 'USGDCB', 'USGSEC', 'GDP', 'GDPC1',\n",
       "       'GDPPOT', 'GDPDEF', 'M1V', 'M2V', 'NROU', 'NROUST', 'GPDI', 'CP',\n",
       "       'GFDEBTN', 'GFDEGDQ188S', 'W240RG3Q086SBEA', 'W242RG3Q086SBEA',\n",
       "       'W243RL1Q225SBEA', 'W241RL1Q225SBEA', 'W242RA3Q086SBEA',\n",
       "       'W240RA3Q086SBEA', 'RHORUSQ156N', 'RHVRUSQ156N', 'RRVRUSQ156N',\n",
       "       'A137RC1Q027SBEA', 'A145RC1Q027SBEA', 'ASPUS', 'B908RL1Q225SBEA',\n",
       "       'B684RL1Q225SBEA', 'W243RA3Q086SBEA', 'W241RA3Q086SBEA'],\n",
       "      dtype=object)"
      ]
     },
     "execution_count": 99,
     "metadata": {},
     "output_type": "execute_result"
    }
   ],
   "source": [
    "X_train.columns.values"
   ]
  },
  {
   "cell_type": "code",
   "execution_count": null,
   "metadata": {},
   "outputs": [],
   "source": []
  }
 ],
 "metadata": {
  "kernelspec": {
   "display_name": "Python 2",
   "language": "python",
   "name": "python2"
  },
  "language_info": {
   "codemirror_mode": {
    "name": "ipython",
    "version": 2
   },
   "file_extension": ".py",
   "mimetype": "text/x-python",
   "name": "python",
   "nbconvert_exporter": "python",
   "pygments_lexer": "ipython2",
   "version": "2.7.14"
  }
 },
 "nbformat": 4,
 "nbformat_minor": 2
}
