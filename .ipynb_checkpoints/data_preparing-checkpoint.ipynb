{
 "cells": [
  {
   "cell_type": "code",
   "execution_count": 2,
   "metadata": {},
   "outputs": [],
   "source": [
    "import tushare as ts\n",
    "import pandas as pd\n",
    "import numpy as np\n",
    "import matplotlib.pyplot as plt\n",
    "import quandl\n",
    "import os"
   ]
  },
  {
   "cell_type": "code",
   "execution_count": 273,
   "metadata": {
    "collapsed": true
   },
   "outputs": [],
   "source": [
    "dataPath = os.getcwd()+'/dataset.csv'\n",
    "djiPath = os.getcwd()+'/DJI.csv'\n",
    "dataset = pd.read_csv(dataPath)\n",
    "DJI = pd.read_csv(djiPath,index_col=0)"
   ]
  },
  {
   "cell_type": "code",
   "execution_count": 100,
   "metadata": {},
   "outputs": [
    {
     "data": {
      "text/plain": [
       "'GDP'"
      ]
     },
     "execution_count": 100,
     "metadata": {},
     "output_type": "execute_result"
    }
   ],
   "source": [
    "dataset.names[0]"
   ]
  },
  {
   "cell_type": "code",
   "execution_count": 3,
   "metadata": {},
   "outputs": [],
   "source": [
    "quandl.ApiConfig.api_key = 'rX-asDsCtNGvci1hLb41'"
   ]
  },
  {
   "cell_type": "code",
   "execution_count": 110,
   "metadata": {},
   "outputs": [
    {
     "name": "stdout",
     "output_type": "stream",
     "text": [
      "('day', 'DFF')\n",
      "('day', 'DTB3')\n",
      "('day', 'DGS5')\n",
      "('day', 'DGS10')\n",
      "('day', 'DGS30')\n",
      "('day', 'T5YIE')\n",
      "('day', 'T10YIE')\n",
      "('day', 'T5YIFR')\n",
      "('day', 'TEDRATE')\n",
      "('day', 'DPRIME')\n",
      "('day', 'DCOILWTICO')\n",
      "('day', 'DTWEXM')\n",
      "('day', 'DTWEXB')\n",
      "('day', 'USEPUINDXD')\n",
      "('day', 'USRECDM')\n",
      "('day', 'USRECDP')\n"
     ]
    }
   ],
   "source": [
    "# 判断数据的周期\n",
    "\n",
    "day = []\n",
    "week = []\n",
    "mounth = []\n",
    "season = []\n",
    "year = []\n",
    "#time_period = dict()\n",
    "for i in dataset.names:\n",
    "    temp = quandl.get('FRED/' + i, start_date=\"2016-10-1\", end_date=\"2018-1-1\")\n",
    "    period_t = temp.index[1] - temp.index[0]\n",
    "    period = period_t.days\n",
    "    if period == 1:\n",
    "        day.append(i)\n",
    "       # print('day',i)\n",
    "    elif  period > 1 and period < 15:\n",
    "        week.append(i)\n",
    "       # print('week',i)\n",
    "    elif  period > 15 and period < 45:\n",
    "        mounth.append(i)\n",
    "       # print('mounth',i)\n",
    "    elif  period > 45 and period < 180:\n",
    "        season.append(i)\n",
    "        #print('season',i) \n",
    "#     elif  period > 180 and period < 368:\n",
    "#         year.append(i)\n",
    "        #print('year',i)   \n",
    "    else :\n",
    "        print('unexpected',i)"
   ]
  },
  {
   "cell_type": "code",
   "execution_count": 115,
   "metadata": {
    "collapsed": true
   },
   "outputs": [],
   "source": [
    "pd.Series(day).to_csv(\"dayName.csv\" , encoding = \"utf-8\")\n",
    "pd.Series(week).to_csv(\"weekName.csv\" , encoding = \"utf-8\")\n",
    "pd.Series(mounth).to_csv(\"mounthName.csv\" , encoding = \"utf-8\")\n",
    "pd.Series(season).to_csv(\"seasonName.csv\" , encoding = \"utf-8\")\n",
    "pd.Series(year).to_csv(\"yearName.csv\" , encoding = \"utf-8\")"
   ]
  },
  {
   "cell_type": "code",
   "execution_count": 253,
   "metadata": {
    "collapsed": true
   },
   "outputs": [],
   "source": [
    "data = pd.DataFrame(DJI['Close'])\n",
    "for i in day:\n",
    "    data = data.join(quandl.get('FRED/' + i, start_date=\"1987-09-1\", end_date=\"2018-1-2\"))\n",
    "    data.rename(columns={'Value':i}, inplace = True)"
   ]
  },
  {
   "cell_type": "code",
   "execution_count": 257,
   "metadata": {
    "collapsed": true
   },
   "outputs": [],
   "source": [
    "day_null_sort = data.isnull().sum().sort_values(ascending=False)"
   ]
  },
  {
   "cell_type": "code",
   "execution_count": 258,
   "metadata": {
    "collapsed": true
   },
   "outputs": [],
   "source": [
    "#保留的day数据\n",
    "dayName_delete = day_null_sort[:5].index.values"
   ]
  },
  {
   "cell_type": "code",
   "execution_count": 259,
   "metadata": {},
   "outputs": [
    {
     "data": {
      "text/plain": [
       "array(['T5YIFR', 'T10YIE', 'T5YIE', 'DTWEXB', 'DGS30'], dtype=object)"
      ]
     },
     "execution_count": 259,
     "metadata": {},
     "output_type": "execute_result"
    }
   ],
   "source": [
    "dayName_delete"
   ]
  },
  {
   "cell_type": "code",
   "execution_count": 181,
   "metadata": {
    "collapsed": true
   },
   "outputs": [],
   "source": [
    "data = data.drop(dayName_delete,axis=1)"
   ]
  },
  {
   "cell_type": "code",
   "execution_count": 285,
   "metadata": {
    "collapsed": true
   },
   "outputs": [],
   "source": [
    "data = pd.DataFrame(DJI['Close'])\n",
    "for i in week:\n",
    "    data = data.join(quandl.get('FRED/' + i, start_date=\"1987-9-1\", end_date=\"2018-1-2\"))\n",
    "    data.rename(columns={'Value':i}, inplace = True)"
   ]
  },
  {
   "cell_type": "code",
   "execution_count": 286,
   "metadata": {},
   "outputs": [
    {
     "data": {
      "text/plain": [
       "array(['ICSA', 'IC4WSA', 'BASE', 'STLFSI', 'GASREGCOVW'], dtype=object)"
      ]
     },
     "execution_count": 286,
     "metadata": {},
     "output_type": "execute_result"
    }
   ],
   "source": [
    "week_null_sort = data.notnull().sum().sort_values()\n",
    "weekName_delete = week_null_sort[:5].index.values\n",
    "weekName_delete"
   ]
  },
  {
   "cell_type": "code",
   "execution_count": 284,
   "metadata": {},
   "outputs": [
    {
     "data": {
      "text/plain": [
       "ICSA             0\n",
       "IC4WSA           0\n",
       "BASE           783\n",
       "STLFSI        1211\n",
       "GASREGCOVW    1296\n",
       "M1            1439\n",
       "M2            1439\n",
       "GDTCBW        1439\n",
       "GDDDCBW       1439\n",
       "GDBFRW        1439\n",
       "EXCSRESNW     1565\n",
       "TOTCI         1565\n",
       "Close         7627\n",
       "dtype: int64"
      ]
     },
     "execution_count": 284,
     "metadata": {},
     "output_type": "execute_result"
    }
   ],
   "source": [
    "week_null_sort"
   ]
  },
  {
   "cell_type": "code",
   "execution_count": 236,
   "metadata": {
    "collapsed": true
   },
   "outputs": [],
   "source": [
    "data = pd.DataFrame(DJI['Close'])\n",
    "for i in season:\n",
    "    data = data.join(quandl.get('FRED/' + i, start_date=\"1987-9-1\", end_date=\"2018-1-2\"))\n",
    "    data.rename(columns={'Value':i}, inplace = True)"
   ]
  },
  {
   "cell_type": "code",
   "execution_count": 237,
   "metadata": {},
   "outputs": [
    {
     "data": {
      "text/plain": [
       "array(['NHSUSSPTQ', 'EYRVACUSQ176N', 'EOCCUSEUSQ176N', 'EVACANTUSQ176N',\n",
       "       'ETOTALUSQ176N', 'W240RX1Q020SBEA', 'W242RX1Q020SBEA'], dtype=object)"
      ]
     },
     "execution_count": 237,
     "metadata": {},
     "output_type": "execute_result"
    }
   ],
   "source": [
    "season_null_sort = data.notnull().sum().sort_values()\n",
    "seasonName_delete = season_null_sort[:7].index.values\n",
    "seasonName_delete"
   ]
  },
  {
   "cell_type": "code",
   "execution_count": 239,
   "metadata": {
    "collapsed": true
   },
   "outputs": [],
   "source": [
    "data = pd.DataFrame(DJI['Close'])\n",
    "for i in mounth:\n",
    "    data = data.join(quandl.get('FRED/' + i, start_date=\"1987-9-1\", end_date=\"2018-1-2\"))\n",
    "    data.rename(columns={'Value':i}, inplace = True)"
   ]
  },
  {
   "cell_type": "code",
   "execution_count": 240,
   "metadata": {},
   "outputs": [
    {
     "data": {
      "text/plain": [
       "array(['IR14220', 'IR14250', 'IR110', 'IQ12210', 'IR14260', 'IR14240',\n",
       "       'PCU4842104842104', 'GASMIDREFM', 'GASPRMREFM', 'IR21300', 'RRSFS'], dtype=object)"
      ]
     },
     "execution_count": 240,
     "metadata": {},
     "output_type": "execute_result"
    }
   ],
   "source": [
    "mounth_null_sort = data.notnull().sum().sort_values()\n",
    "mounthName_delete = mounth_null_sort[:11].index.values\n",
    "mounthName_delete"
   ]
  },
  {
   "cell_type": "code",
   "execution_count": 242,
   "metadata": {
    "collapsed": true
   },
   "outputs": [],
   "source": [
    "data = pd.DataFrame(DJI['Close'])\n",
    "for i in year:\n",
    "    data = data.join(quandl.get('FRED/' + i, start_date=\"1987-9-1\", end_date=\"2018-1-2\"))\n",
    "    data.rename(columns={'Value':i}, inplace = True)"
   ]
  },
  {
   "cell_type": "code",
   "execution_count": 243,
   "metadata": {},
   "outputs": [
    {
     "data": {
      "text/plain": [
       "Close    7627\n",
       "dtype: int64"
      ]
     },
     "execution_count": 243,
     "metadata": {},
     "output_type": "execute_result"
    }
   ],
   "source": [
    "data.notnull().sum().sort_values()\n",
    "#mounthName_delete = mounth_null_sort[:11].index.values\n",
    "#mounthName_delete"
   ]
  },
  {
   "cell_type": "code",
   "execution_count": 260,
   "metadata": {
    "collapsed": true
   },
   "outputs": [],
   "source": [
    "#pd.Series(dayName_delete).to_csv(\"dayName_delete.csv\" , encoding = \"utf-8\")\n",
    "#pd.Series(weekName_delete).to_csv(\"weekName_delete.csv\" , encoding = \"utf-8\")\n",
    "#pd.Series(mounthName_delete).to_csv(\"mounthName_delete.csv\" , encoding = \"utf-8\")\n",
    "#pd.Series(seasonName_delete).to_csv(\"seasonName_delete.csv\" , encoding = \"utf-8\")\n",
    "\n"
   ]
  },
  {
   "cell_type": "code",
   "execution_count": 274,
   "metadata": {
    "collapsed": true
   },
   "outputs": [],
   "source": [
    "periods = [day,week,mounth,season]\n",
    "data = pd.DataFrame(DJI['Close'])\n",
    "for p in periods:\n",
    "    #print p\n",
    "    for i in p:\n",
    "       # print i\n",
    "        data = data.join(quandl.get('FRED/' + i, start_date=\"1987-9-1\", end_date=\"2018-1-2\"))\n",
    "        data.rename(columns={'Value':i}, inplace = True)"
   ]
  },
  {
   "cell_type": "code",
   "execution_count": 275,
   "metadata": {
    "collapsed": true
   },
   "outputs": [],
   "source": [
    "periods_delete = [dayName_delete,weekName_delete,mounthName_delete,seasonName_delete]\n",
    "for i in periods_delete:\n",
    "    data = data.drop(i,axis=1)"
   ]
  },
  {
   "cell_type": "code",
   "execution_count": 279,
   "metadata": {},
   "outputs": [
    {
     "data": {
      "text/plain": [
       "[['DFF',\n",
       "  'DTB3',\n",
       "  'DGS5',\n",
       "  'DGS10',\n",
       "  'DGS30',\n",
       "  'T5YIE',\n",
       "  'T10YIE',\n",
       "  'T5YIFR',\n",
       "  'TEDRATE',\n",
       "  'DPRIME',\n",
       "  'DCOILWTICO',\n",
       "  'DTWEXM',\n",
       "  'DTWEXB',\n",
       "  'USEPUINDXD',\n",
       "  'USRECDM',\n",
       "  'USRECDP'],\n",
       " ['BASE',\n",
       "  'M1',\n",
       "  'M2',\n",
       "  'ICSA',\n",
       "  'IC4WSA',\n",
       "  'STLFSI',\n",
       "  'EXCSRESNW',\n",
       "  'TOTCI',\n",
       "  'GASREGCOVW',\n",
       "  'GDTCBW',\n",
       "  'GDDDCBW',\n",
       "  'GDBFRW'],\n",
       " ['CPIAUCSL',\n",
       "  'CPILFESL',\n",
       "  'UNRATE',\n",
       "  'CIVPART',\n",
       "  'UNEMPLOY',\n",
       "  'PAYEMS',\n",
       "  'MANEMP',\n",
       "  'DSPIC96',\n",
       "  'PCE',\n",
       "  'PCEDG',\n",
       "  'PSAVERT',\n",
       "  'RRSFS',\n",
       "  'DSPI',\n",
       "  'INDPRO',\n",
       "  'TCU',\n",
       "  'HOUST',\n",
       "  'USSLIND',\n",
       "  'IQ300',\n",
       "  'IR300',\n",
       "  'IR120',\n",
       "  'USSLIND',\n",
       "  'IR213COM',\n",
       "  'IQ213COM',\n",
       "  'IR21320',\n",
       "  'IR10000',\n",
       "  'IR14260',\n",
       "  'IR110',\n",
       "  'IQ00200',\n",
       "  'IQ21320',\n",
       "  'IR21300',\n",
       "  'IR14240',\n",
       "  'IR14250',\n",
       "  'IQ002',\n",
       "  'IQ12210',\n",
       "  'IQ00000',\n",
       "  'IR14220',\n",
       "  'IQ21300',\n",
       "  'PCU4842104842104',\n",
       "  'GASPRMREFM',\n",
       "  'GASMIDREFM',\n",
       "  'IR',\n",
       "  'IQ',\n",
       "  'MSACSRNSA',\n",
       "  'LNS14000006',\n",
       "  'LNU05000006',\n",
       "  'LNS12000006',\n",
       "  'LNS13000006',\n",
       "  'IQ10',\n",
       "  'HSN1FNSA',\n",
       "  'HSN1F',\n",
       "  'HNFSEPUSSA',\n",
       "  'HNFSUSNSA',\n",
       "  'LNU00000006',\n",
       "  'LNU02300006',\n",
       "  'LNS12300006',\n",
       "  'ASPNHSUS',\n",
       "  'FEDMINFRMWG',\n",
       "  'FEDMINNFRWG',\n",
       "  'LNU01300006',\n",
       "  'USGVDDNS',\n",
       "  'USGDCB',\n",
       "  'USGSEC'],\n",
       " ['GDP',\n",
       "  'GDPC1',\n",
       "  'GDPPOT',\n",
       "  'GDPDEF',\n",
       "  'M1V',\n",
       "  'M2V',\n",
       "  'NROU',\n",
       "  'NROUST',\n",
       "  'GPDI',\n",
       "  'CP',\n",
       "  'GFDEBTN',\n",
       "  'GFDEGDQ188S',\n",
       "  'W242RX1Q020SBEA',\n",
       "  'W240RX1Q020SBEA',\n",
       "  'EOCCUSEUSQ176N',\n",
       "  'W240RG3Q086SBEA',\n",
       "  'W242RG3Q086SBEA',\n",
       "  'W243RL1Q225SBEA',\n",
       "  'W241RL1Q225SBEA',\n",
       "  'W242RA3Q086SBEA',\n",
       "  'W240RA3Q086SBEA',\n",
       "  'RHORUSQ156N',\n",
       "  'RHVRUSQ156N',\n",
       "  'RRVRUSQ156N',\n",
       "  'A137RC1Q027SBEA',\n",
       "  'A145RC1Q027SBEA',\n",
       "  'ASPUS',\n",
       "  'ETOTALUSQ176N',\n",
       "  'EVACANTUSQ176N',\n",
       "  'NHSUSSPTQ',\n",
       "  'B908RL1Q225SBEA',\n",
       "  'B684RL1Q225SBEA',\n",
       "  'EYRVACUSQ176N',\n",
       "  'W243RA3Q086SBEA',\n",
       "  'W241RA3Q086SBEA']]"
      ]
     },
     "execution_count": 279,
     "metadata": {},
     "output_type": "execute_result"
    }
   ],
   "source": [
    "periods"
   ]
  },
  {
   "cell_type": "code",
   "execution_count": 278,
   "metadata": {
    "collapsed": true
   },
   "outputs": [],
   "source": [
    "data.to_csv(\"original_data.csv\" , encoding = \"utf-8\")"
   ]
  },
  {
   "cell_type": "code",
   "execution_count": 4,
   "metadata": {},
   "outputs": [],
   "source": [
    "odataPath = os.getcwd()+'/original_data.csv'\n",
    "odataset = pd.read_csv(odataPath)"
   ]
  },
  {
   "cell_type": "code",
   "execution_count": 5,
   "metadata": {},
   "outputs": [],
   "source": [
    "GDP = quandl.get('FRED/STLFSI', start_date=\"1987-9-1\", end_date=\"2018-1-30\")"
   ]
  },
  {
   "cell_type": "code",
   "execution_count": 39,
   "metadata": {
    "collapsed": true
   },
   "outputs": [],
   "source": [
    "period = GDP.index[1] - GDP.index[0]"
   ]
  },
  {
   "cell_type": "code",
   "execution_count": 71,
   "metadata": {},
   "outputs": [
    {
     "name": "stdout",
     "output_type": "stream",
     "text": [
      "ok\n"
     ]
    }
   ],
   "source": [
    "if period.days ==91 or period.days ==92 :\n",
    "    print('ok')"
   ]
  },
  {
   "cell_type": "code",
   "execution_count": 283,
   "metadata": {},
   "outputs": [
    {
     "data": {
      "text/html": [
       "<div>\n",
       "<style>\n",
       "    .dataframe thead tr:only-child th {\n",
       "        text-align: right;\n",
       "    }\n",
       "\n",
       "    .dataframe thead th {\n",
       "        text-align: left;\n",
       "    }\n",
       "\n",
       "    .dataframe tbody tr th {\n",
       "        vertical-align: top;\n",
       "    }\n",
       "</style>\n",
       "<table border=\"1\" class=\"dataframe\">\n",
       "  <thead>\n",
       "    <tr style=\"text-align: right;\">\n",
       "      <th></th>\n",
       "      <th>Value</th>\n",
       "    </tr>\n",
       "    <tr>\n",
       "      <th>Date</th>\n",
       "      <th></th>\n",
       "    </tr>\n",
       "  </thead>\n",
       "  <tbody>\n",
       "    <tr>\n",
       "      <th>1993-12-31</th>\n",
       "      <td>0.186</td>\n",
       "    </tr>\n",
       "    <tr>\n",
       "      <th>1994-01-07</th>\n",
       "      <td>0.231</td>\n",
       "    </tr>\n",
       "    <tr>\n",
       "      <th>1994-01-14</th>\n",
       "      <td>0.174</td>\n",
       "    </tr>\n",
       "    <tr>\n",
       "      <th>1994-01-21</th>\n",
       "      <td>0.192</td>\n",
       "    </tr>\n",
       "    <tr>\n",
       "      <th>1994-01-28</th>\n",
       "      <td>0.168</td>\n",
       "    </tr>\n",
       "    <tr>\n",
       "      <th>1994-02-04</th>\n",
       "      <td>0.153</td>\n",
       "    </tr>\n",
       "    <tr>\n",
       "      <th>1994-02-11</th>\n",
       "      <td>0.259</td>\n",
       "    </tr>\n",
       "    <tr>\n",
       "      <th>1994-02-18</th>\n",
       "      <td>0.262</td>\n",
       "    </tr>\n",
       "    <tr>\n",
       "      <th>1994-02-25</th>\n",
       "      <td>0.355</td>\n",
       "    </tr>\n",
       "    <tr>\n",
       "      <th>1994-03-04</th>\n",
       "      <td>0.433</td>\n",
       "    </tr>\n",
       "    <tr>\n",
       "      <th>1994-03-11</th>\n",
       "      <td>0.467</td>\n",
       "    </tr>\n",
       "    <tr>\n",
       "      <th>1994-03-18</th>\n",
       "      <td>0.461</td>\n",
       "    </tr>\n",
       "    <tr>\n",
       "      <th>1994-03-25</th>\n",
       "      <td>0.500</td>\n",
       "    </tr>\n",
       "    <tr>\n",
       "      <th>1994-04-01</th>\n",
       "      <td>0.612</td>\n",
       "    </tr>\n",
       "    <tr>\n",
       "      <th>1994-04-08</th>\n",
       "      <td>0.744</td>\n",
       "    </tr>\n",
       "    <tr>\n",
       "      <th>1994-04-15</th>\n",
       "      <td>0.683</td>\n",
       "    </tr>\n",
       "    <tr>\n",
       "      <th>1994-04-22</th>\n",
       "      <td>0.715</td>\n",
       "    </tr>\n",
       "    <tr>\n",
       "      <th>1994-04-29</th>\n",
       "      <td>0.636</td>\n",
       "    </tr>\n",
       "    <tr>\n",
       "      <th>1994-05-06</th>\n",
       "      <td>0.712</td>\n",
       "    </tr>\n",
       "    <tr>\n",
       "      <th>1994-05-13</th>\n",
       "      <td>0.885</td>\n",
       "    </tr>\n",
       "    <tr>\n",
       "      <th>1994-05-20</th>\n",
       "      <td>0.719</td>\n",
       "    </tr>\n",
       "    <tr>\n",
       "      <th>1994-05-27</th>\n",
       "      <td>0.739</td>\n",
       "    </tr>\n",
       "    <tr>\n",
       "      <th>1994-06-03</th>\n",
       "      <td>0.773</td>\n",
       "    </tr>\n",
       "    <tr>\n",
       "      <th>1994-06-10</th>\n",
       "      <td>0.695</td>\n",
       "    </tr>\n",
       "    <tr>\n",
       "      <th>1994-06-17</th>\n",
       "      <td>0.708</td>\n",
       "    </tr>\n",
       "    <tr>\n",
       "      <th>1994-06-24</th>\n",
       "      <td>0.774</td>\n",
       "    </tr>\n",
       "    <tr>\n",
       "      <th>1994-07-01</th>\n",
       "      <td>0.902</td>\n",
       "    </tr>\n",
       "    <tr>\n",
       "      <th>1994-07-08</th>\n",
       "      <td>0.897</td>\n",
       "    </tr>\n",
       "    <tr>\n",
       "      <th>1994-07-15</th>\n",
       "      <td>0.816</td>\n",
       "    </tr>\n",
       "    <tr>\n",
       "      <th>1994-07-22</th>\n",
       "      <td>0.719</td>\n",
       "    </tr>\n",
       "    <tr>\n",
       "      <th>...</th>\n",
       "      <td>...</td>\n",
       "    </tr>\n",
       "    <tr>\n",
       "      <th>2017-07-07</th>\n",
       "      <td>-1.422</td>\n",
       "    </tr>\n",
       "    <tr>\n",
       "      <th>2017-07-14</th>\n",
       "      <td>-1.452</td>\n",
       "    </tr>\n",
       "    <tr>\n",
       "      <th>2017-07-21</th>\n",
       "      <td>-1.542</td>\n",
       "    </tr>\n",
       "    <tr>\n",
       "      <th>2017-07-28</th>\n",
       "      <td>-1.554</td>\n",
       "    </tr>\n",
       "    <tr>\n",
       "      <th>2017-08-04</th>\n",
       "      <td>-1.532</td>\n",
       "    </tr>\n",
       "    <tr>\n",
       "      <th>2017-08-11</th>\n",
       "      <td>-1.460</td>\n",
       "    </tr>\n",
       "    <tr>\n",
       "      <th>2017-08-18</th>\n",
       "      <td>-1.435</td>\n",
       "    </tr>\n",
       "    <tr>\n",
       "      <th>2017-08-25</th>\n",
       "      <td>-1.431</td>\n",
       "    </tr>\n",
       "    <tr>\n",
       "      <th>2017-09-01</th>\n",
       "      <td>-1.463</td>\n",
       "    </tr>\n",
       "    <tr>\n",
       "      <th>2017-09-08</th>\n",
       "      <td>-1.469</td>\n",
       "    </tr>\n",
       "    <tr>\n",
       "      <th>2017-09-15</th>\n",
       "      <td>-1.492</td>\n",
       "    </tr>\n",
       "    <tr>\n",
       "      <th>2017-09-22</th>\n",
       "      <td>-1.506</td>\n",
       "    </tr>\n",
       "    <tr>\n",
       "      <th>2017-09-29</th>\n",
       "      <td>-1.513</td>\n",
       "    </tr>\n",
       "    <tr>\n",
       "      <th>2017-10-06</th>\n",
       "      <td>-1.503</td>\n",
       "    </tr>\n",
       "    <tr>\n",
       "      <th>2017-10-13</th>\n",
       "      <td>-1.520</td>\n",
       "    </tr>\n",
       "    <tr>\n",
       "      <th>2017-10-20</th>\n",
       "      <td>-1.533</td>\n",
       "    </tr>\n",
       "    <tr>\n",
       "      <th>2017-10-27</th>\n",
       "      <td>-1.498</td>\n",
       "    </tr>\n",
       "    <tr>\n",
       "      <th>2017-11-03</th>\n",
       "      <td>-1.569</td>\n",
       "    </tr>\n",
       "    <tr>\n",
       "      <th>2017-11-10</th>\n",
       "      <td>-1.579</td>\n",
       "    </tr>\n",
       "    <tr>\n",
       "      <th>2017-11-17</th>\n",
       "      <td>-1.526</td>\n",
       "    </tr>\n",
       "    <tr>\n",
       "      <th>2017-11-24</th>\n",
       "      <td>-1.573</td>\n",
       "    </tr>\n",
       "    <tr>\n",
       "      <th>2017-12-01</th>\n",
       "      <td>-1.552</td>\n",
       "    </tr>\n",
       "    <tr>\n",
       "      <th>2017-12-08</th>\n",
       "      <td>-1.525</td>\n",
       "    </tr>\n",
       "    <tr>\n",
       "      <th>2017-12-15</th>\n",
       "      <td>-1.509</td>\n",
       "    </tr>\n",
       "    <tr>\n",
       "      <th>2017-12-22</th>\n",
       "      <td>-1.445</td>\n",
       "    </tr>\n",
       "    <tr>\n",
       "      <th>2017-12-29</th>\n",
       "      <td>-1.468</td>\n",
       "    </tr>\n",
       "    <tr>\n",
       "      <th>2018-01-05</th>\n",
       "      <td>-1.477</td>\n",
       "    </tr>\n",
       "    <tr>\n",
       "      <th>2018-01-12</th>\n",
       "      <td>-1.480</td>\n",
       "    </tr>\n",
       "    <tr>\n",
       "      <th>2018-01-19</th>\n",
       "      <td>-1.452</td>\n",
       "    </tr>\n",
       "    <tr>\n",
       "      <th>2018-01-26</th>\n",
       "      <td>-1.422</td>\n",
       "    </tr>\n",
       "  </tbody>\n",
       "</table>\n",
       "<p>1257 rows × 1 columns</p>\n",
       "</div>"
      ],
      "text/plain": [
       "            Value\n",
       "Date             \n",
       "1993-12-31  0.186\n",
       "1994-01-07  0.231\n",
       "1994-01-14  0.174\n",
       "1994-01-21  0.192\n",
       "1994-01-28  0.168\n",
       "1994-02-04  0.153\n",
       "1994-02-11  0.259\n",
       "1994-02-18  0.262\n",
       "1994-02-25  0.355\n",
       "1994-03-04  0.433\n",
       "1994-03-11  0.467\n",
       "1994-03-18  0.461\n",
       "1994-03-25  0.500\n",
       "1994-04-01  0.612\n",
       "1994-04-08  0.744\n",
       "1994-04-15  0.683\n",
       "1994-04-22  0.715\n",
       "1994-04-29  0.636\n",
       "1994-05-06  0.712\n",
       "1994-05-13  0.885\n",
       "1994-05-20  0.719\n",
       "1994-05-27  0.739\n",
       "1994-06-03  0.773\n",
       "1994-06-10  0.695\n",
       "1994-06-17  0.708\n",
       "1994-06-24  0.774\n",
       "1994-07-01  0.902\n",
       "1994-07-08  0.897\n",
       "1994-07-15  0.816\n",
       "1994-07-22  0.719\n",
       "...           ...\n",
       "2017-07-07 -1.422\n",
       "2017-07-14 -1.452\n",
       "2017-07-21 -1.542\n",
       "2017-07-28 -1.554\n",
       "2017-08-04 -1.532\n",
       "2017-08-11 -1.460\n",
       "2017-08-18 -1.435\n",
       "2017-08-25 -1.431\n",
       "2017-09-01 -1.463\n",
       "2017-09-08 -1.469\n",
       "2017-09-15 -1.492\n",
       "2017-09-22 -1.506\n",
       "2017-09-29 -1.513\n",
       "2017-10-06 -1.503\n",
       "2017-10-13 -1.520\n",
       "2017-10-20 -1.533\n",
       "2017-10-27 -1.498\n",
       "2017-11-03 -1.569\n",
       "2017-11-10 -1.579\n",
       "2017-11-17 -1.526\n",
       "2017-11-24 -1.573\n",
       "2017-12-01 -1.552\n",
       "2017-12-08 -1.525\n",
       "2017-12-15 -1.509\n",
       "2017-12-22 -1.445\n",
       "2017-12-29 -1.468\n",
       "2018-01-05 -1.477\n",
       "2018-01-12 -1.480\n",
       "2018-01-19 -1.452\n",
       "2018-01-26 -1.422\n",
       "\n",
       "[1257 rows x 1 columns]"
      ]
     },
     "execution_count": 283,
     "metadata": {},
     "output_type": "execute_result"
    }
   ],
   "source": [
    "GDP"
   ]
  },
  {
   "cell_type": "code",
   "execution_count": null,
   "metadata": {
    "collapsed": true
   },
   "outputs": [],
   "source": []
  }
 ],
 "metadata": {
  "kernelspec": {
   "display_name": "Python 2",
   "language": "python",
   "name": "python2"
  },
  "language_info": {
   "codemirror_mode": {
    "name": "ipython",
    "version": 2
   },
   "file_extension": ".py",
   "mimetype": "text/x-python",
   "name": "python",
   "nbconvert_exporter": "python",
   "pygments_lexer": "ipython2",
   "version": "2.7.14"
  }
 },
 "nbformat": 4,
 "nbformat_minor": 2
}
