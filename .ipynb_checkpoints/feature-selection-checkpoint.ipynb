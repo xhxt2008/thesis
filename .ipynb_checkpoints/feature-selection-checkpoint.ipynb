{
 "cells": [
  {
   "cell_type": "code",
   "execution_count": 1,
   "metadata": {},
   "outputs": [],
   "source": [
    "import pandas as pd\n",
    "import numpy as np\n",
    "import matplotlib.pyplot as plt\n",
    "import os\n",
    "import seaborn as sns \n",
    "%matplotlib inline"
   ]
  },
  {
   "cell_type": "code",
   "execution_count": null,
   "metadata": {},
   "outputs": [],
   "source": [
    "DataPath = os.getcwd()+'/data/processed_data.csv'\n",
    "data = pd.read_csv(DataPath,index_col=0)"
   ]
  },
  {
   "cell_type": "code",
   "execution_count": 85,
   "metadata": {},
   "outputs": [],
   "source": [
    "odata = data.copy()\n",
    "Y = data.pop('Y_class')"
   ]
  },
  {
   "cell_type": "markdown",
   "metadata": {},
   "source": [
    "## 划分训练集"
   ]
  },
  {
   "cell_type": "code",
   "execution_count": 86,
   "metadata": {},
   "outputs": [],
   "source": [
    "from sklearn.model_selection import train_test_split\n",
    "X_train, X_test, y_train, y_test = train_test_split(data, Y, test_size=0.2, random_state=42)"
   ]
  },
  {
   "cell_type": "markdown",
   "metadata": {},
   "source": [
    "## 训练"
   ]
  },
  {
   "cell_type": "code",
   "execution_count": 5,
   "metadata": {},
   "outputs": [],
   "source": [
    "from sklearn.ensemble import RandomForestClassifier\n"
   ]
  },
  {
   "cell_type": "code",
   "execution_count": 91,
   "metadata": {},
   "outputs": [],
   "source": [
    "clf = RandomForestClassifier(oob_score=True,random_state=0,n_estimators =100)"
   ]
  },
  {
   "cell_type": "code",
   "execution_count": 92,
   "metadata": {},
   "outputs": [
    {
     "data": {
      "text/plain": [
       "RandomForestClassifier(bootstrap=True, class_weight=None, criterion='gini',\n",
       "            max_depth=None, max_features='auto', max_leaf_nodes=None,\n",
       "            min_impurity_decrease=0.0, min_impurity_split=None,\n",
       "            min_samples_leaf=1, min_samples_split=2,\n",
       "            min_weight_fraction_leaf=0.0, n_estimators=100, n_jobs=1,\n",
       "            oob_score=True, random_state=0, verbose=0, warm_start=False)"
      ]
     },
     "execution_count": 92,
     "metadata": {},
     "output_type": "execute_result"
    }
   ],
   "source": [
    "clf.fit(X_train,y_train)"
   ]
  },
  {
   "cell_type": "code",
   "execution_count": 93,
   "metadata": {},
   "outputs": [],
   "source": [
    "result = clf.predict(X_test)"
   ]
  },
  {
   "cell_type": "code",
   "execution_count": 94,
   "metadata": {},
   "outputs": [
    {
     "data": {
      "text/plain": [
       " 0    715\n",
       " 1    290\n",
       "-1    240\n",
       "-2    154\n",
       " 2    126\n",
       "dtype: int64"
      ]
     },
     "execution_count": 94,
     "metadata": {},
     "output_type": "execute_result"
    }
   ],
   "source": [
    "pd.Series(result).value_counts()"
   ]
  },
  {
   "cell_type": "code",
   "execution_count": 68,
   "metadata": {},
   "outputs": [],
   "source": [
    "from sklearn.metrics import accuracy_score"
   ]
  },
  {
   "cell_type": "code",
   "execution_count": 95,
   "metadata": {},
   "outputs": [
    {
     "data": {
      "text/plain": [
       "0.3022950819672131"
      ]
     },
     "execution_count": 95,
     "metadata": {},
     "output_type": "execute_result"
    }
   ],
   "source": [
    "accuracy_score(y_test, result)"
   ]
  },
  {
   "cell_type": "code",
   "execution_count": 70,
   "metadata": {},
   "outputs": [
    {
     "data": {
      "text/plain": [
       "0.6695081967213115"
      ]
     },
     "execution_count": 70,
     "metadata": {},
     "output_type": "execute_result"
    }
   ],
   "source": [
    "clf.oob_score_"
   ]
  },
  {
   "cell_type": "code",
   "execution_count": 27,
   "metadata": {},
   "outputs": [
    {
     "data": {
      "text/plain": [
       "array([0.06326704, 0.05186778, 0.05859302, 0.05703204, 0.05395623,\n",
       "       0.00112617, 0.06181909, 0.0590781 , 0.0602242 , 0.03930889,\n",
       "       0.03639997, 0.03273455, 0.04186499, 0.03715516, 0.03596378,\n",
       "       0.0340778 , 0.00439292, 0.00433384, 0.00355252, 0.00296043,\n",
       "       0.00637322, 0.00468901, 0.00662288, 0.00359739, 0.0043552 ,\n",
       "       0.00415509, 0.00360853, 0.00434057, 0.00395167, 0.00383269,\n",
       "       0.0044753 , 0.00336048, 0.00339511, 0.00328274, 0.00486468,\n",
       "       0.00290949, 0.00359839, 0.00394456, 0.00389259, 0.00476095,\n",
       "       0.00439273, 0.00446251, 0.00445411, 0.00481091, 0.00392782,\n",
       "       0.00464132, 0.00417948, 0.00355082, 0.00410015, 0.00456807,\n",
       "       0.00479731, 0.00382444, 0.00381861, 0.00438452, 0.00379964,\n",
       "       0.00425932, 0.00481102, 0.00390514, 0.00410736, 0.0043387 ,\n",
       "       0.0062042 , 0.00021005, 0.00039892, 0.00351745, 0.00425251,\n",
       "       0.004408  , 0.00427487, 0.00304824, 0.00188886, 0.00257792,\n",
       "       0.00327226, 0.00202781, 0.00308219, 0.00199599, 0.00223967,\n",
       "       0.0023148 , 0.00255005, 0.00212558, 0.00273278, 0.00342345,\n",
       "       0.00228461, 0.00183235, 0.00239936, 0.00203919, 0.00302379,\n",
       "       0.00204246, 0.00167013, 0.00184028, 0.00320092, 0.00271316,\n",
       "       0.00233981, 0.00330691, 0.00197975, 0.00180479, 0.00212389])"
      ]
     },
     "execution_count": 27,
     "metadata": {},
     "output_type": "execute_result"
    }
   ],
   "source": [
    "clf.feature_importances_"
   ]
  },
  {
   "cell_type": "code",
   "execution_count": 28,
   "metadata": {},
   "outputs": [],
   "source": [
    "from sklearn.feature_selection import f_classif"
   ]
  },
  {
   "cell_type": "code",
   "execution_count": 71,
   "metadata": {},
   "outputs": [],
   "source": [
    "f_score = f_classif(X_train,y_train)\n",
    "#pd.DataFrame(f_score)\n",
    "col = X_train.columns"
   ]
  },
  {
   "cell_type": "code",
   "execution_count": 72,
   "metadata": {},
   "outputs": [],
   "source": [
    "fea_f = pd.Series(f_score[0],index=col)"
   ]
  },
  {
   "cell_type": "code",
   "execution_count": 73,
   "metadata": {},
   "outputs": [],
   "source": [
    "fea_f_sort = fea_f.sort_values(ascending = False)"
   ]
  },
  {
   "cell_type": "code",
   "execution_count": 98,
   "metadata": {},
   "outputs": [
    {
     "data": {
      "text/plain": [
       "Close_Y            4052.239832\n",
       "MANEMP               34.849236\n",
       "UNRATE               32.736029\n",
       "UNEMPLOY             32.502826\n",
       "GPDI                 30.571288\n",
       "A137RC1Q027SBEA      25.361174\n",
       "M2V                  25.333084\n",
       "TCU                  24.971901\n",
       "HNFSEPUSSA           24.344799\n",
       "HNFSUSNSA            23.903106\n",
       "NROUST               22.820578\n",
       "PAYEMS               22.031316\n",
       "INDPRO               19.527283\n",
       "IR                   17.859479\n",
       "IR10000              17.774108\n",
       "PCEDG                16.837398\n",
       "GFDEGDQ188S          14.288907\n",
       "PCE                  13.729193\n",
       "LNS13000006          13.256469\n",
       "Close                13.247044\n",
       "IQ                   12.964520\n",
       "CP                   12.922024\n",
       "LNS14000006          12.829349\n",
       "W240RG3Q086SBEA      12.231172\n",
       "IQ10                 11.661696\n",
       "NROU                 11.373150\n",
       "W240RA3Q086SBEA      11.157768\n",
       "CPIAUCSL             10.739272\n",
       "USGSEC               10.725432\n",
       "A145RC1Q027SBEA       9.701686\n",
       "                      ...     \n",
       "DCOILWTICO            1.896833\n",
       "TOTCI                 1.824144\n",
       "W243RA3Q086SBEA       1.558135\n",
       "USSLIND               1.554791\n",
       "USSLIND.1             1.554791\n",
       "RHVRUSQ156N           1.524004\n",
       "IQ213COM              1.481907\n",
       "IR120                 1.372587\n",
       "IQ002                 1.280995\n",
       "RRVRUSQ156N           1.220052\n",
       "W243RL1Q225SBEA       1.173538\n",
       "ASPUS                 1.043891\n",
       "TEDRATE               0.958025\n",
       "LNU01300006           0.928024\n",
       "W241RA3Q086SBEA       0.895419\n",
       "LNU05000006           0.854644\n",
       "W241RL1Q225SBEA       0.804088\n",
       "CIVPART               0.790511\n",
       "IQ00000               0.716967\n",
       "IQ300                 0.698343\n",
       "DSPI                  0.683156\n",
       "USEPUINDXD            0.617231\n",
       "LNU00000006           0.614372\n",
       "USGVDDNS              0.547149\n",
       "USGDCB                0.440719\n",
       "DTWEXM                0.436511\n",
       "IQ21300               0.339123\n",
       "DSPIC96               0.328930\n",
       "DFF                   0.269737\n",
       "GDDDCBW               0.091409\n",
       "Length: 96, dtype: float64"
      ]
     },
     "execution_count": 98,
     "metadata": {},
     "output_type": "execute_result"
    }
   ],
   "source": [
    "fea_f_sort"
   ]
  },
  {
   "cell_type": "code",
   "execution_count": 55,
   "metadata": {},
   "outputs": [],
   "source": [
    "from sklearn.model_selection import GridSearchCV\n",
    "from sklearn.model_selection import StratifiedKFold\n"
   ]
  },
  {
   "cell_type": "code",
   "execution_count": 56,
   "metadata": {},
   "outputs": [],
   "source": [
    "kfold = StratifiedKFold(n_splits=10, shuffle=True, random_state=3)"
   ]
  },
  {
   "cell_type": "markdown",
   "metadata": {},
   "source": [
    "## n_estimators"
   ]
  },
  {
   "cell_type": "code",
   "execution_count": 57,
   "metadata": {},
   "outputs": [
    {
     "data": {
      "text/plain": [
       "{'n_estimators': array([100, 200, 300, 400, 500, 600, 700, 800, 900])}"
      ]
     },
     "execution_count": 57,
     "metadata": {},
     "output_type": "execute_result"
    }
   ],
   "source": [
    "n_estimators = np.arange(100,1000,100)\n",
    "param_test1 = dict(n_estimators=n_estimators)\n",
    "param_test1"
   ]
  },
  {
   "cell_type": "code",
   "execution_count": 75,
   "metadata": {},
   "outputs": [
    {
     "name": "stderr",
     "output_type": "stream",
     "text": [
      "/Users/xhxt2008/anaconda/lib/python2.7/site-packages/sklearn/model_selection/_search.py:761: DeprecationWarning: The grid_scores_ attribute was deprecated in version 0.18 in favor of the more elaborate cv_results_ attribute. The grid_scores_ attribute will not be available from 0.20\n",
      "  DeprecationWarning)\n"
     ]
    },
    {
     "data": {
      "text/plain": [
       "([mean: 0.90787, std: 0.01028, params: {'n_estimators': 100},\n",
       "  mean: 0.91393, std: 0.00864, params: {'n_estimators': 200},\n",
       "  mean: 0.91557, std: 0.00777, params: {'n_estimators': 300},\n",
       "  mean: 0.91492, std: 0.00809, params: {'n_estimators': 400},\n",
       "  mean: 0.91574, std: 0.00764, params: {'n_estimators': 500},\n",
       "  mean: 0.91770, std: 0.00701, params: {'n_estimators': 600},\n",
       "  mean: 0.91754, std: 0.00863, params: {'n_estimators': 700},\n",
       "  mean: 0.91852, std: 0.00814, params: {'n_estimators': 800},\n",
       "  mean: 0.91836, std: 0.00711, params: {'n_estimators': 900}],\n",
       " {'n_estimators': 800},\n",
       " 0.9185245901639344)"
      ]
     },
     "execution_count": 75,
     "metadata": {},
     "output_type": "execute_result"
    }
   ],
   "source": [
    "clf = RandomForestClassifier(oob_score=True,\n",
    "                             random_state=0)\n",
    "\n",
    "gsearch2 = GridSearchCV(clf, param_grid = param_test1, scoring='accuracy',n_jobs=-1, cv=kfold)\n",
    "gsearch2.fit(X_train , y_train)\n",
    "gsearch2.grid_scores_, gsearch2.best_params_,     gsearch2.best_score_"
   ]
  },
  {
   "cell_type": "markdown",
   "metadata": {},
   "source": [
    "## max_depth min_samples_split"
   ]
  },
  {
   "cell_type": "code",
   "execution_count": 96,
   "metadata": {},
   "outputs": [
    {
     "data": {
      "text/plain": [
       "{'max_depth': array([ 3,  5,  7,  9, 11, 13]),\n",
       " 'min_samples_split': array([ 50,  70,  90, 110, 130, 150, 170, 190])}"
      ]
     },
     "execution_count": 96,
     "metadata": {},
     "output_type": "execute_result"
    }
   ],
   "source": [
    "max_depth = np.arange(3,14,2)\n",
    "min_samples_split = np.arange(50,201,20)\n",
    "\n",
    "param_test2 = dict(max_depth=max_depth,min_samples_split=min_samples_split)\n",
    "param_test2"
   ]
  },
  {
   "cell_type": "code",
   "execution_count": 97,
   "metadata": {},
   "outputs": [
    {
     "name": "stderr",
     "output_type": "stream",
     "text": [
      "/Users/xhxt2008/anaconda/lib/python2.7/site-packages/sklearn/model_selection/_search.py:761: DeprecationWarning: The grid_scores_ attribute was deprecated in version 0.18 in favor of the more elaborate cv_results_ attribute. The grid_scores_ attribute will not be available from 0.20\n",
      "  DeprecationWarning)\n"
     ]
    },
    {
     "data": {
      "text/plain": [
       "([mean: 0.34016, std: 0.00478, params: {'min_samples_split': 50, 'max_depth': 3},\n",
       "  mean: 0.34016, std: 0.00572, params: {'min_samples_split': 70, 'max_depth': 3},\n",
       "  mean: 0.33967, std: 0.00492, params: {'min_samples_split': 90, 'max_depth': 3},\n",
       "  mean: 0.34000, std: 0.00529, params: {'min_samples_split': 110, 'max_depth': 3},\n",
       "  mean: 0.33984, std: 0.00536, params: {'min_samples_split': 130, 'max_depth': 3},\n",
       "  mean: 0.34000, std: 0.00516, params: {'min_samples_split': 150, 'max_depth': 3},\n",
       "  mean: 0.34000, std: 0.00516, params: {'min_samples_split': 170, 'max_depth': 3},\n",
       "  mean: 0.33984, std: 0.00519, params: {'min_samples_split': 190, 'max_depth': 3},\n",
       "  mean: 0.34426, std: 0.00967, params: {'min_samples_split': 50, 'max_depth': 5},\n",
       "  mean: 0.34639, std: 0.00919, params: {'min_samples_split': 70, 'max_depth': 5},\n",
       "  mean: 0.34656, std: 0.00917, params: {'min_samples_split': 90, 'max_depth': 5},\n",
       "  mean: 0.34557, std: 0.00811, params: {'min_samples_split': 110, 'max_depth': 5},\n",
       "  mean: 0.34590, std: 0.00811, params: {'min_samples_split': 130, 'max_depth': 5},\n",
       "  mean: 0.34557, std: 0.00860, params: {'min_samples_split': 150, 'max_depth': 5},\n",
       "  mean: 0.34508, std: 0.00808, params: {'min_samples_split': 170, 'max_depth': 5},\n",
       "  mean: 0.34492, std: 0.00747, params: {'min_samples_split': 190, 'max_depth': 5},\n",
       "  mean: 0.34967, std: 0.00940, params: {'min_samples_split': 50, 'max_depth': 7},\n",
       "  mean: 0.35016, std: 0.00905, params: {'min_samples_split': 70, 'max_depth': 7},\n",
       "  mean: 0.34656, std: 0.00851, params: {'min_samples_split': 90, 'max_depth': 7},\n",
       "  mean: 0.34738, std: 0.00854, params: {'min_samples_split': 110, 'max_depth': 7},\n",
       "  mean: 0.35180, std: 0.00834, params: {'min_samples_split': 130, 'max_depth': 7},\n",
       "  mean: 0.34934, std: 0.00808, params: {'min_samples_split': 150, 'max_depth': 7},\n",
       "  mean: 0.34820, std: 0.00849, params: {'min_samples_split': 170, 'max_depth': 7},\n",
       "  mean: 0.34967, std: 0.00955, params: {'min_samples_split': 190, 'max_depth': 7},\n",
       "  mean: 0.34639, std: 0.00972, params: {'min_samples_split': 50, 'max_depth': 9},\n",
       "  mean: 0.34475, std: 0.00949, params: {'min_samples_split': 70, 'max_depth': 9},\n",
       "  mean: 0.34689, std: 0.00859, params: {'min_samples_split': 90, 'max_depth': 9},\n",
       "  mean: 0.34836, std: 0.01006, params: {'min_samples_split': 110, 'max_depth': 9},\n",
       "  mean: 0.34787, std: 0.01060, params: {'min_samples_split': 130, 'max_depth': 9},\n",
       "  mean: 0.34754, std: 0.01114, params: {'min_samples_split': 150, 'max_depth': 9},\n",
       "  mean: 0.35082, std: 0.01073, params: {'min_samples_split': 170, 'max_depth': 9},\n",
       "  mean: 0.35082, std: 0.00839, params: {'min_samples_split': 190, 'max_depth': 9},\n",
       "  mean: 0.34262, std: 0.01329, params: {'min_samples_split': 50, 'max_depth': 11},\n",
       "  mean: 0.34131, std: 0.01174, params: {'min_samples_split': 70, 'max_depth': 11},\n",
       "  mean: 0.34098, std: 0.01002, params: {'min_samples_split': 90, 'max_depth': 11},\n",
       "  mean: 0.34328, std: 0.00960, params: {'min_samples_split': 110, 'max_depth': 11},\n",
       "  mean: 0.34262, std: 0.01201, params: {'min_samples_split': 130, 'max_depth': 11},\n",
       "  mean: 0.34672, std: 0.01322, params: {'min_samples_split': 150, 'max_depth': 11},\n",
       "  mean: 0.34557, std: 0.00919, params: {'min_samples_split': 170, 'max_depth': 11},\n",
       "  mean: 0.34590, std: 0.00939, params: {'min_samples_split': 190, 'max_depth': 11},\n",
       "  mean: 0.33672, std: 0.00859, params: {'min_samples_split': 50, 'max_depth': 13},\n",
       "  mean: 0.33951, std: 0.00965, params: {'min_samples_split': 70, 'max_depth': 13},\n",
       "  mean: 0.34115, std: 0.01005, params: {'min_samples_split': 90, 'max_depth': 13},\n",
       "  mean: 0.34197, std: 0.00958, params: {'min_samples_split': 110, 'max_depth': 13},\n",
       "  mean: 0.34082, std: 0.01124, params: {'min_samples_split': 130, 'max_depth': 13},\n",
       "  mean: 0.34361, std: 0.01150, params: {'min_samples_split': 150, 'max_depth': 13},\n",
       "  mean: 0.34607, std: 0.00852, params: {'min_samples_split': 170, 'max_depth': 13},\n",
       "  mean: 0.34590, std: 0.00914, params: {'min_samples_split': 190, 'max_depth': 13}],\n",
       " {'max_depth': 7, 'min_samples_split': 130},\n",
       " 0.35180327868852457)"
      ]
     },
     "execution_count": 97,
     "metadata": {},
     "output_type": "execute_result"
    }
   ],
   "source": [
    "clf = RandomForestClassifier(oob_score=True,\n",
    "                             random_state=0,\n",
    "                             n_estimators=100\n",
    "                             )\n",
    "\n",
    "gsearch3 = GridSearchCV(clf, param_grid = param_test2, scoring='accuracy',n_jobs=-1, cv=kfold)\n",
    "gsearch3.fit(X_train , y_train)\n",
    "gsearch3.grid_scores_, gsearch3.best_params_,     gsearch3.best_score_"
   ]
  },
  {
   "cell_type": "markdown",
   "metadata": {},
   "source": [
    "## min_samples_split min_samples_leaf"
   ]
  },
  {
   "cell_type": "code",
   "execution_count": 103,
   "metadata": {},
   "outputs": [
    {
     "data": {
      "text/plain": [
       "{'min_samples_leaf': array([10, 20, 30, 40, 50]),\n",
       " 'min_samples_split': array([ 90, 110, 130, 150, 170])}"
      ]
     },
     "execution_count": 103,
     "metadata": {},
     "output_type": "execute_result"
    }
   ],
   "source": [
    "min_samples_leaf = np.arange(10,60,10)\n",
    "min_samples_split = np.arange(90,171,20)\n",
    "\n",
    "param_test3 = dict(min_samples_leaf=min_samples_leaf,min_samples_split=min_samples_split)\n",
    "param_test3"
   ]
  },
  {
   "cell_type": "code",
   "execution_count": 105,
   "metadata": {},
   "outputs": [
    {
     "name": "stderr",
     "output_type": "stream",
     "text": [
      "/Users/xhxt2008/anaconda/lib/python2.7/site-packages/sklearn/model_selection/_search.py:761: DeprecationWarning: The grid_scores_ attribute was deprecated in version 0.18 in favor of the more elaborate cv_results_ attribute. The grid_scores_ attribute will not be available from 0.20\n",
      "  DeprecationWarning)\n"
     ]
    },
    {
     "data": {
      "text/plain": [
       "([mean: 0.34656, std: 0.00761, params: {'min_samples_split': 90, 'min_samples_leaf': 10},\n",
       "  mean: 0.34902, std: 0.00804, params: {'min_samples_split': 110, 'min_samples_leaf': 10},\n",
       "  mean: 0.35148, std: 0.01060, params: {'min_samples_split': 130, 'min_samples_leaf': 10},\n",
       "  mean: 0.34984, std: 0.00715, params: {'min_samples_split': 150, 'min_samples_leaf': 10},\n",
       "  mean: 0.34852, std: 0.01026, params: {'min_samples_split': 170, 'min_samples_leaf': 10},\n",
       "  mean: 0.34836, std: 0.00865, params: {'min_samples_split': 90, 'min_samples_leaf': 20},\n",
       "  mean: 0.35082, std: 0.00855, params: {'min_samples_split': 110, 'min_samples_leaf': 20},\n",
       "  mean: 0.35131, std: 0.00924, params: {'min_samples_split': 130, 'min_samples_leaf': 20},\n",
       "  mean: 0.34934, std: 0.00717, params: {'min_samples_split': 150, 'min_samples_leaf': 20},\n",
       "  mean: 0.34918, std: 0.00775, params: {'min_samples_split': 170, 'min_samples_leaf': 20},\n",
       "  mean: 0.35016, std: 0.00753, params: {'min_samples_split': 90, 'min_samples_leaf': 30},\n",
       "  mean: 0.34934, std: 0.00854, params: {'min_samples_split': 110, 'min_samples_leaf': 30},\n",
       "  mean: 0.34885, std: 0.01006, params: {'min_samples_split': 130, 'min_samples_leaf': 30},\n",
       "  mean: 0.34869, std: 0.01005, params: {'min_samples_split': 150, 'min_samples_leaf': 30},\n",
       "  mean: 0.34869, std: 0.00883, params: {'min_samples_split': 170, 'min_samples_leaf': 30},\n",
       "  mean: 0.34951, std: 0.00713, params: {'min_samples_split': 90, 'min_samples_leaf': 40},\n",
       "  mean: 0.35098, std: 0.01113, params: {'min_samples_split': 110, 'min_samples_leaf': 40},\n",
       "  mean: 0.34852, std: 0.00957, params: {'min_samples_split': 130, 'min_samples_leaf': 40},\n",
       "  mean: 0.34951, std: 0.00777, params: {'min_samples_split': 150, 'min_samples_leaf': 40},\n",
       "  mean: 0.34820, std: 0.00849, params: {'min_samples_split': 170, 'min_samples_leaf': 40},\n",
       "  mean: 0.34787, std: 0.01037, params: {'min_samples_split': 90, 'min_samples_leaf': 50},\n",
       "  mean: 0.34934, std: 0.01020, params: {'min_samples_split': 110, 'min_samples_leaf': 50},\n",
       "  mean: 0.34984, std: 0.00900, params: {'min_samples_split': 130, 'min_samples_leaf': 50},\n",
       "  mean: 0.34934, std: 0.00888, params: {'min_samples_split': 150, 'min_samples_leaf': 50},\n",
       "  mean: 0.34738, std: 0.00899, params: {'min_samples_split': 170, 'min_samples_leaf': 50}],\n",
       " {'min_samples_leaf': 10, 'min_samples_split': 130},\n",
       " 0.35147540983606557)"
      ]
     },
     "execution_count": 105,
     "metadata": {},
     "output_type": "execute_result"
    }
   ],
   "source": [
    "clf = RandomForestClassifier(oob_score=True,\n",
    "                             random_state=0,\n",
    "                             n_estimators=100,\n",
    "                             max_depth=7\n",
    "                             )\n",
    "\n",
    "gsearch4 = GridSearchCV(clf, param_grid = param_test3, scoring='accuracy',n_jobs=-1, cv=kfold)\n",
    "gsearch4.fit(X_train , y_train)\n",
    "gsearch4.grid_scores_, gsearch4.best_params_,     gsearch4.best_score_"
   ]
  },
  {
   "cell_type": "markdown",
   "metadata": {},
   "source": [
    "## min_samples_split min_samples_leaf"
   ]
  },
  {
   "cell_type": "code",
   "execution_count": 113,
   "metadata": {},
   "outputs": [
    {
     "data": {
      "text/plain": [
       "{'max_features': ['sqrt', 'log2', 'auto']}"
      ]
     },
     "execution_count": 113,
     "metadata": {},
     "output_type": "execute_result"
    }
   ],
   "source": [
    "max_features = ['sqrt','log2','auto']\n",
    "\n",
    "param_test4 = dict(max_features=max_features)\n",
    "param_test4"
   ]
  },
  {
   "cell_type": "code",
   "execution_count": 114,
   "metadata": {},
   "outputs": [
    {
     "name": "stderr",
     "output_type": "stream",
     "text": [
      "/Users/xhxt2008/anaconda/lib/python2.7/site-packages/sklearn/model_selection/_search.py:761: DeprecationWarning: The grid_scores_ attribute was deprecated in version 0.18 in favor of the more elaborate cv_results_ attribute. The grid_scores_ attribute will not be available from 0.20\n",
      "  DeprecationWarning)\n"
     ]
    },
    {
     "data": {
      "text/plain": [
       "([mean: 0.35148, std: 0.01060, params: {'max_features': 'sqrt'},\n",
       "  mean: 0.34787, std: 0.00833, params: {'max_features': 'log2'},\n",
       "  mean: 0.35148, std: 0.01060, params: {'max_features': 'auto'}],\n",
       " {'max_features': 'sqrt'},\n",
       " 0.35147540983606557)"
      ]
     },
     "execution_count": 114,
     "metadata": {},
     "output_type": "execute_result"
    }
   ],
   "source": [
    "clf = RandomForestClassifier(oob_score=True,\n",
    "                             random_state=0,\n",
    "                             n_estimators=100,\n",
    "                             max_depth=7,\n",
    "                             min_samples_split=130,\n",
    "                             min_samples_leaf=10\n",
    "                             )\n",
    "\n",
    "gsearch5 = GridSearchCV(clf, param_grid = param_test4, scoring='accuracy',n_jobs=-1, cv=kfold)\n",
    "gsearch5.fit(X_train , y_train)\n",
    "gsearch5.grid_scores_, gsearch5.best_params_,     gsearch5.best_score_"
   ]
  },
  {
   "cell_type": "code",
   "execution_count": null,
   "metadata": {},
   "outputs": [],
   "source": []
  },
  {
   "cell_type": "code",
   "execution_count": 115,
   "metadata": {},
   "outputs": [
    {
     "data": {
      "text/plain": [
       "0.33704918032786885"
      ]
     },
     "execution_count": 115,
     "metadata": {},
     "output_type": "execute_result"
    }
   ],
   "source": [
    "clf.fit(X_test,y_test)\n",
    "clf.oob_score_"
   ]
  },
  {
   "cell_type": "code",
   "execution_count": 99,
   "metadata": {},
   "outputs": [
    {
     "data": {
      "text/plain": [
       "array(['Close', 'DFF', 'DGS5', 'DGS10', 'TEDRATE', 'DPRIME', 'DCOILWTICO',\n",
       "       'DTWEXM', 'USEPUINDXD', 'M1', 'M2', 'EXCSRESNW', 'TOTCI', 'GDTCBW',\n",
       "       'GDDDCBW', 'GDBFRW', 'CPIAUCSL', 'CPILFESL', 'UNRATE', 'CIVPART',\n",
       "       'UNEMPLOY', 'PAYEMS', 'MANEMP', 'DSPIC96', 'PCE', 'PCEDG',\n",
       "       'PSAVERT', 'DSPI', 'INDPRO', 'TCU', 'HOUST', 'USSLIND', 'IQ300',\n",
       "       'IR300', 'IR120', 'USSLIND.1', 'IR213COM', 'IQ213COM', 'IR21320',\n",
       "       'IR10000', 'IQ00200', 'IQ21320', 'IQ002', 'IQ00000', 'IQ21300',\n",
       "       'IR', 'IQ', 'MSACSRNSA', 'LNS14000006', 'LNU05000006',\n",
       "       'LNS12000006', 'LNS13000006', 'IQ10', 'HSN1FNSA', 'HSN1F',\n",
       "       'HNFSEPUSSA', 'HNFSUSNSA', 'LNU00000006', 'LNU02300006',\n",
       "       'LNS12300006', 'ASPNHSUS', 'FEDMINFRMWG', 'FEDMINNFRWG',\n",
       "       'LNU01300006', 'USGVDDNS', 'USGDCB', 'USGSEC', 'GDP', 'GDPC1',\n",
       "       'GDPPOT', 'GDPDEF', 'M1V', 'M2V', 'NROU', 'NROUST', 'GPDI', 'CP',\n",
       "       'GFDEBTN', 'GFDEGDQ188S', 'W240RG3Q086SBEA', 'W242RG3Q086SBEA',\n",
       "       'W243RL1Q225SBEA', 'W241RL1Q225SBEA', 'W242RA3Q086SBEA',\n",
       "       'W240RA3Q086SBEA', 'RHORUSQ156N', 'RHVRUSQ156N', 'RRVRUSQ156N',\n",
       "       'A137RC1Q027SBEA', 'A145RC1Q027SBEA', 'ASPUS', 'B908RL1Q225SBEA',\n",
       "       'B684RL1Q225SBEA', 'W243RA3Q086SBEA', 'W241RA3Q086SBEA'],\n",
       "      dtype=object)"
      ]
     },
     "execution_count": 99,
     "metadata": {},
     "output_type": "execute_result"
    }
   ],
   "source": [
    "X_train.columns.values"
   ]
  },
  {
   "cell_type": "code",
   "execution_count": null,
   "metadata": {},
   "outputs": [],
   "source": []
  }
 ],
 "metadata": {
  "kernelspec": {
   "display_name": "Python 2",
   "language": "python",
   "name": "python2"
  },
  "language_info": {
   "codemirror_mode": {
    "name": "ipython",
    "version": 2
   },
   "file_extension": ".py",
   "mimetype": "text/x-python",
   "name": "python",
   "nbconvert_exporter": "python",
   "pygments_lexer": "ipython2",
   "version": "2.7.14"
  }
 },
 "nbformat": 4,
 "nbformat_minor": 2
}
